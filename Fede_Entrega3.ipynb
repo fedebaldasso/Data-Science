{
  "nbformat": 4,
  "nbformat_minor": 0,
  "metadata": {
    "colab": {
      "provenance": [],
      "authorship_tag": "ABX9TyPv0ujz1FojzC7dspMQEJjv",
      "include_colab_link": true
    },
    "kernelspec": {
      "name": "python3",
      "display_name": "Python 3"
    },
    "language_info": {
      "name": "python"
    }
  },
  "cells": [
    {
      "cell_type": "markdown",
      "metadata": {
        "id": "view-in-github",
        "colab_type": "text"
      },
      "source": [
        "<a href=\"https://colab.research.google.com/github/fedebaldasso/Data-Science/blob/main/Fede_Entrega3.ipynb\" target=\"_parent\"><img src=\"https://colab.research.google.com/assets/colab-badge.svg\" alt=\"Open In Colab\"/></a>"
      ]
    },
    {
      "cell_type": "code",
      "execution_count": 1,
      "metadata": {
        "colab": {
          "base_uri": "https://localhost:8080/",
          "height": 206
        },
        "id": "hXrzFUe6WvyL",
        "outputId": "a5569152-f3a8-468e-f8ee-d62820ab3fc7"
      },
      "outputs": [
        {
          "output_type": "execute_result",
          "data": {
            "text/plain": [
              "   work_year experience_level employment_type                   job_title  \\\n",
              "0       2020               MI              FT              Data Scientist   \n",
              "1       2020               SE              FT  Machine Learning Scientist   \n",
              "2       2020               SE              FT           Big Data Engineer   \n",
              "3       2020               MI              FT        Product Data Analyst   \n",
              "4       2020               SE              FT   Machine Learning Engineer   \n",
              "\n",
              "   salary salary_currency  salary_in_usd employee_residence  remote_ratio  \\\n",
              "0   70000             EUR          79833                 DE             0   \n",
              "1  260000             USD         260000                 JP             0   \n",
              "2   85000             GBP         109024                 GB            50   \n",
              "3   20000             USD          20000                 HN             0   \n",
              "4  150000             USD         150000                 US            50   \n",
              "\n",
              "  company_location company_size  \n",
              "0               DE            L  \n",
              "1               JP            S  \n",
              "2               GB            M  \n",
              "3               HN            S  \n",
              "4               US            L  "
            ],
            "text/html": [
              "\n",
              "  <div id=\"df-8ec5f73b-605e-4bd4-85e9-08357e35e97e\">\n",
              "    <div class=\"colab-df-container\">\n",
              "      <div>\n",
              "<style scoped>\n",
              "    .dataframe tbody tr th:only-of-type {\n",
              "        vertical-align: middle;\n",
              "    }\n",
              "\n",
              "    .dataframe tbody tr th {\n",
              "        vertical-align: top;\n",
              "    }\n",
              "\n",
              "    .dataframe thead th {\n",
              "        text-align: right;\n",
              "    }\n",
              "</style>\n",
              "<table border=\"1\" class=\"dataframe\">\n",
              "  <thead>\n",
              "    <tr style=\"text-align: right;\">\n",
              "      <th></th>\n",
              "      <th>work_year</th>\n",
              "      <th>experience_level</th>\n",
              "      <th>employment_type</th>\n",
              "      <th>job_title</th>\n",
              "      <th>salary</th>\n",
              "      <th>salary_currency</th>\n",
              "      <th>salary_in_usd</th>\n",
              "      <th>employee_residence</th>\n",
              "      <th>remote_ratio</th>\n",
              "      <th>company_location</th>\n",
              "      <th>company_size</th>\n",
              "    </tr>\n",
              "  </thead>\n",
              "  <tbody>\n",
              "    <tr>\n",
              "      <th>0</th>\n",
              "      <td>2020</td>\n",
              "      <td>MI</td>\n",
              "      <td>FT</td>\n",
              "      <td>Data Scientist</td>\n",
              "      <td>70000</td>\n",
              "      <td>EUR</td>\n",
              "      <td>79833</td>\n",
              "      <td>DE</td>\n",
              "      <td>0</td>\n",
              "      <td>DE</td>\n",
              "      <td>L</td>\n",
              "    </tr>\n",
              "    <tr>\n",
              "      <th>1</th>\n",
              "      <td>2020</td>\n",
              "      <td>SE</td>\n",
              "      <td>FT</td>\n",
              "      <td>Machine Learning Scientist</td>\n",
              "      <td>260000</td>\n",
              "      <td>USD</td>\n",
              "      <td>260000</td>\n",
              "      <td>JP</td>\n",
              "      <td>0</td>\n",
              "      <td>JP</td>\n",
              "      <td>S</td>\n",
              "    </tr>\n",
              "    <tr>\n",
              "      <th>2</th>\n",
              "      <td>2020</td>\n",
              "      <td>SE</td>\n",
              "      <td>FT</td>\n",
              "      <td>Big Data Engineer</td>\n",
              "      <td>85000</td>\n",
              "      <td>GBP</td>\n",
              "      <td>109024</td>\n",
              "      <td>GB</td>\n",
              "      <td>50</td>\n",
              "      <td>GB</td>\n",
              "      <td>M</td>\n",
              "    </tr>\n",
              "    <tr>\n",
              "      <th>3</th>\n",
              "      <td>2020</td>\n",
              "      <td>MI</td>\n",
              "      <td>FT</td>\n",
              "      <td>Product Data Analyst</td>\n",
              "      <td>20000</td>\n",
              "      <td>USD</td>\n",
              "      <td>20000</td>\n",
              "      <td>HN</td>\n",
              "      <td>0</td>\n",
              "      <td>HN</td>\n",
              "      <td>S</td>\n",
              "    </tr>\n",
              "    <tr>\n",
              "      <th>4</th>\n",
              "      <td>2020</td>\n",
              "      <td>SE</td>\n",
              "      <td>FT</td>\n",
              "      <td>Machine Learning Engineer</td>\n",
              "      <td>150000</td>\n",
              "      <td>USD</td>\n",
              "      <td>150000</td>\n",
              "      <td>US</td>\n",
              "      <td>50</td>\n",
              "      <td>US</td>\n",
              "      <td>L</td>\n",
              "    </tr>\n",
              "  </tbody>\n",
              "</table>\n",
              "</div>\n",
              "      <button class=\"colab-df-convert\" onclick=\"convertToInteractive('df-8ec5f73b-605e-4bd4-85e9-08357e35e97e')\"\n",
              "              title=\"Convert this dataframe to an interactive table.\"\n",
              "              style=\"display:none;\">\n",
              "        \n",
              "  <svg xmlns=\"http://www.w3.org/2000/svg\" height=\"24px\"viewBox=\"0 0 24 24\"\n",
              "       width=\"24px\">\n",
              "    <path d=\"M0 0h24v24H0V0z\" fill=\"none\"/>\n",
              "    <path d=\"M18.56 5.44l.94 2.06.94-2.06 2.06-.94-2.06-.94-.94-2.06-.94 2.06-2.06.94zm-11 1L8.5 8.5l.94-2.06 2.06-.94-2.06-.94L8.5 2.5l-.94 2.06-2.06.94zm10 10l.94 2.06.94-2.06 2.06-.94-2.06-.94-.94-2.06-.94 2.06-2.06.94z\"/><path d=\"M17.41 7.96l-1.37-1.37c-.4-.4-.92-.59-1.43-.59-.52 0-1.04.2-1.43.59L10.3 9.45l-7.72 7.72c-.78.78-.78 2.05 0 2.83L4 21.41c.39.39.9.59 1.41.59.51 0 1.02-.2 1.41-.59l7.78-7.78 2.81-2.81c.8-.78.8-2.07 0-2.86zM5.41 20L4 18.59l7.72-7.72 1.47 1.35L5.41 20z\"/>\n",
              "  </svg>\n",
              "      </button>\n",
              "      \n",
              "  <style>\n",
              "    .colab-df-container {\n",
              "      display:flex;\n",
              "      flex-wrap:wrap;\n",
              "      gap: 12px;\n",
              "    }\n",
              "\n",
              "    .colab-df-convert {\n",
              "      background-color: #E8F0FE;\n",
              "      border: none;\n",
              "      border-radius: 50%;\n",
              "      cursor: pointer;\n",
              "      display: none;\n",
              "      fill: #1967D2;\n",
              "      height: 32px;\n",
              "      padding: 0 0 0 0;\n",
              "      width: 32px;\n",
              "    }\n",
              "\n",
              "    .colab-df-convert:hover {\n",
              "      background-color: #E2EBFA;\n",
              "      box-shadow: 0px 1px 2px rgba(60, 64, 67, 0.3), 0px 1px 3px 1px rgba(60, 64, 67, 0.15);\n",
              "      fill: #174EA6;\n",
              "    }\n",
              "\n",
              "    [theme=dark] .colab-df-convert {\n",
              "      background-color: #3B4455;\n",
              "      fill: #D2E3FC;\n",
              "    }\n",
              "\n",
              "    [theme=dark] .colab-df-convert:hover {\n",
              "      background-color: #434B5C;\n",
              "      box-shadow: 0px 1px 3px 1px rgba(0, 0, 0, 0.15);\n",
              "      filter: drop-shadow(0px 1px 2px rgba(0, 0, 0, 0.3));\n",
              "      fill: #FFFFFF;\n",
              "    }\n",
              "  </style>\n",
              "\n",
              "      <script>\n",
              "        const buttonEl =\n",
              "          document.querySelector('#df-8ec5f73b-605e-4bd4-85e9-08357e35e97e button.colab-df-convert');\n",
              "        buttonEl.style.display =\n",
              "          google.colab.kernel.accessAllowed ? 'block' : 'none';\n",
              "\n",
              "        async function convertToInteractive(key) {\n",
              "          const element = document.querySelector('#df-8ec5f73b-605e-4bd4-85e9-08357e35e97e');\n",
              "          const dataTable =\n",
              "            await google.colab.kernel.invokeFunction('convertToInteractive',\n",
              "                                                     [key], {});\n",
              "          if (!dataTable) return;\n",
              "\n",
              "          const docLinkHtml = 'Like what you see? Visit the ' +\n",
              "            '<a target=\"_blank\" href=https://colab.research.google.com/notebooks/data_table.ipynb>data table notebook</a>'\n",
              "            + ' to learn more about interactive tables.';\n",
              "          element.innerHTML = '';\n",
              "          dataTable['output_type'] = 'display_data';\n",
              "          await google.colab.output.renderOutput(dataTable, element);\n",
              "          const docLink = document.createElement('div');\n",
              "          docLink.innerHTML = docLinkHtml;\n",
              "          element.appendChild(docLink);\n",
              "        }\n",
              "      </script>\n",
              "    </div>\n",
              "  </div>\n",
              "  "
            ]
          },
          "metadata": {},
          "execution_count": 1
        }
      ],
      "source": [
        " #Importamos las librerías\n",
        "import numpy as np \n",
        "import matplotlib.pyplot as plt\n",
        "import matplotlib.image as image \n",
        "import seaborn as sns\n",
        "import pandas as pd\n",
        "import datetime as dt\n",
        "import statsmodels.api as sm\n",
        "import statsmodels.formula.api as smf\n",
        "import ipywidgets as widgets #librería para interacción del usuario con los gráficos\n",
        "from sklearn.pipeline import Pipeline # generador de pipeline de trabajao\n",
        "from sklearn.preprocessing import RobustScaler , OneHotEncoder, OrdinalEncoder #encoder para trasnformar columnas\n",
        "from sklearn.model_selection import train_test_split # split de train y test\n",
        "from sklearn.compose import ColumnTransformer #Permite el uso de las columnas cat y num\n",
        "from sklearn.impute import SimpleImputer # llenado de valores\n",
        "from sklearn.compose import make_column_selector #selector in pipeline by dtypes\n",
        "import numpy as np #numpy libreria de calculo\n",
        "\n",
        "cols = list(pd.read_csv('ds_salaries.csv', nrows =1))\n",
        "df_sal = pd.read_csv('ds_salaries.csv')\n",
        "del df_sal['Unnamed: 0']\n",
        "df_sal.head()\n"
      ]
    },
    {
      "cell_type": "code",
      "source": [
        "df_sal['work_year'] = pd.to_datetime(df_sal['work_year'], format='%Y').dt.year"
      ],
      "metadata": {
        "id": "8UzApyQ4XMME"
      },
      "execution_count": 2,
      "outputs": []
    },
    {
      "cell_type": "code",
      "source": [
        "df_sal.info() #work year aparece como int ya que solo dejo los años y no toda la fecha entera"
      ],
      "metadata": {
        "colab": {
          "base_uri": "https://localhost:8080/"
        },
        "id": "aVHbPid4X4mG",
        "outputId": "4015c8a2-5492-415a-c669-cc90018a247d"
      },
      "execution_count": 3,
      "outputs": [
        {
          "output_type": "stream",
          "name": "stdout",
          "text": [
            "<class 'pandas.core.frame.DataFrame'>\n",
            "RangeIndex: 607 entries, 0 to 606\n",
            "Data columns (total 11 columns):\n",
            " #   Column              Non-Null Count  Dtype \n",
            "---  ------              --------------  ----- \n",
            " 0   work_year           607 non-null    int64 \n",
            " 1   experience_level    607 non-null    object\n",
            " 2   employment_type     607 non-null    object\n",
            " 3   job_title           607 non-null    object\n",
            " 4   salary              607 non-null    int64 \n",
            " 5   salary_currency     607 non-null    object\n",
            " 6   salary_in_usd       607 non-null    int64 \n",
            " 7   employee_residence  607 non-null    object\n",
            " 8   remote_ratio        607 non-null    int64 \n",
            " 9   company_location    607 non-null    object\n",
            " 10  company_size        607 non-null    object\n",
            "dtypes: int64(4), object(7)\n",
            "memory usage: 52.3+ KB\n"
          ]
        }
      ]
    },
    {
      "cell_type": "markdown",
      "source": [
        "Descripción de variables\n",
        "\n",
        "work_year: El año en que se pagó el salario. experience_level: El nivel de experiencia en el puesto durante el año con los siguientes valores posibles: EN Entry-level/Junior MI Mid-level/Intermediate SE Senior-level/Experto EX Executive-level employment_type: El tipo de empleo para el puesto: PT Tiempo parcial FT Tiempo completo CT Contrato FL Freelance job_title: Rol trabajado durante el año. salary: El monto total del salario bruto pagado. salary_currency: La moneda del salario pagado como un código de moneda ISO 4217. salary in usd: El salario en USD (tasa de cambio dividida por la tasa promedio de USD para el año respectivo a través de fxdata.foorilla.com). employee_residence: El país de residencia principal del empleado durante el año laboral como código de país ISO 3166. remote_ratio: La cantidad total de trabajo realizado de forma remota, los valores posibles son los siguientes: 0 Sin trabajo remoto (menos del 20 %) 50 Parcialmente remoto 100 Totalmente remoto (más del 80 %) company_location: El país de la oficina principal del empleador o sucursal contratante como un código de país ISO 3166. company_size: Número promedio de personas que trabajaron para la empresa durante el año: S menos de 50 empleados (pequeño) M 50 a 250 empleados (mediano) L más de 250 empleados (grande)\\"
      ],
      "metadata": {
        "id": "awYOvaciC-1r"
      }
    },
    {
      "cell_type": "markdown",
      "source": [
        "No encontramos valores nulos ni valores desconocidos"
      ],
      "metadata": {
        "id": "sg1TTQcRDNvJ"
      }
    },
    {
      "cell_type": "code",
      "source": [
        "df_sal.describe(include='all').T #Obtengo una descripción completa del df"
      ],
      "metadata": {
        "colab": {
          "base_uri": "https://localhost:8080/",
          "height": 394
        },
        "id": "IFpXuPzoX9V6",
        "outputId": "ca06cbc1-c583-4a0e-a483-369d9296a6c7"
      },
      "execution_count": 4,
      "outputs": [
        {
          "output_type": "execute_result",
          "data": {
            "text/plain": [
              "                    count unique             top freq           mean  \\\n",
              "work_year           607.0    NaN             NaN  NaN    2021.405272   \n",
              "experience_level      607      4              SE  280            NaN   \n",
              "employment_type       607      4              FT  588            NaN   \n",
              "job_title             607     50  Data Scientist  143            NaN   \n",
              "salary              607.0    NaN             NaN  NaN  324000.062603   \n",
              "salary_currency       607     17             USD  398            NaN   \n",
              "salary_in_usd       607.0    NaN             NaN  NaN  112297.869852   \n",
              "employee_residence    607     57              US  332            NaN   \n",
              "remote_ratio        607.0    NaN             NaN  NaN       70.92257   \n",
              "company_location      607     50              US  355            NaN   \n",
              "company_size          607      3               M  326            NaN   \n",
              "\n",
              "                               std     min      25%       50%       75%  \\\n",
              "work_year                 0.692133  2020.0   2021.0    2022.0    2022.0   \n",
              "experience_level               NaN     NaN      NaN       NaN       NaN   \n",
              "employment_type                NaN     NaN      NaN       NaN       NaN   \n",
              "job_title                      NaN     NaN      NaN       NaN       NaN   \n",
              "salary              1544357.486636  4000.0  70000.0  115000.0  165000.0   \n",
              "salary_currency                NaN     NaN      NaN       NaN       NaN   \n",
              "salary_in_usd         70957.259411  2859.0  62726.0  101570.0  150000.0   \n",
              "employee_residence             NaN     NaN      NaN       NaN       NaN   \n",
              "remote_ratio              40.70913     0.0     50.0     100.0     100.0   \n",
              "company_location               NaN     NaN      NaN       NaN       NaN   \n",
              "company_size                   NaN     NaN      NaN       NaN       NaN   \n",
              "\n",
              "                           max  \n",
              "work_year               2022.0  \n",
              "experience_level           NaN  \n",
              "employment_type            NaN  \n",
              "job_title                  NaN  \n",
              "salary              30400000.0  \n",
              "salary_currency            NaN  \n",
              "salary_in_usd         600000.0  \n",
              "employee_residence         NaN  \n",
              "remote_ratio             100.0  \n",
              "company_location           NaN  \n",
              "company_size               NaN  "
            ],
            "text/html": [
              "\n",
              "  <div id=\"df-a825c7fd-491a-4e81-8112-88d370eeb3f1\">\n",
              "    <div class=\"colab-df-container\">\n",
              "      <div>\n",
              "<style scoped>\n",
              "    .dataframe tbody tr th:only-of-type {\n",
              "        vertical-align: middle;\n",
              "    }\n",
              "\n",
              "    .dataframe tbody tr th {\n",
              "        vertical-align: top;\n",
              "    }\n",
              "\n",
              "    .dataframe thead th {\n",
              "        text-align: right;\n",
              "    }\n",
              "</style>\n",
              "<table border=\"1\" class=\"dataframe\">\n",
              "  <thead>\n",
              "    <tr style=\"text-align: right;\">\n",
              "      <th></th>\n",
              "      <th>count</th>\n",
              "      <th>unique</th>\n",
              "      <th>top</th>\n",
              "      <th>freq</th>\n",
              "      <th>mean</th>\n",
              "      <th>std</th>\n",
              "      <th>min</th>\n",
              "      <th>25%</th>\n",
              "      <th>50%</th>\n",
              "      <th>75%</th>\n",
              "      <th>max</th>\n",
              "    </tr>\n",
              "  </thead>\n",
              "  <tbody>\n",
              "    <tr>\n",
              "      <th>work_year</th>\n",
              "      <td>607.0</td>\n",
              "      <td>NaN</td>\n",
              "      <td>NaN</td>\n",
              "      <td>NaN</td>\n",
              "      <td>2021.405272</td>\n",
              "      <td>0.692133</td>\n",
              "      <td>2020.0</td>\n",
              "      <td>2021.0</td>\n",
              "      <td>2022.0</td>\n",
              "      <td>2022.0</td>\n",
              "      <td>2022.0</td>\n",
              "    </tr>\n",
              "    <tr>\n",
              "      <th>experience_level</th>\n",
              "      <td>607</td>\n",
              "      <td>4</td>\n",
              "      <td>SE</td>\n",
              "      <td>280</td>\n",
              "      <td>NaN</td>\n",
              "      <td>NaN</td>\n",
              "      <td>NaN</td>\n",
              "      <td>NaN</td>\n",
              "      <td>NaN</td>\n",
              "      <td>NaN</td>\n",
              "      <td>NaN</td>\n",
              "    </tr>\n",
              "    <tr>\n",
              "      <th>employment_type</th>\n",
              "      <td>607</td>\n",
              "      <td>4</td>\n",
              "      <td>FT</td>\n",
              "      <td>588</td>\n",
              "      <td>NaN</td>\n",
              "      <td>NaN</td>\n",
              "      <td>NaN</td>\n",
              "      <td>NaN</td>\n",
              "      <td>NaN</td>\n",
              "      <td>NaN</td>\n",
              "      <td>NaN</td>\n",
              "    </tr>\n",
              "    <tr>\n",
              "      <th>job_title</th>\n",
              "      <td>607</td>\n",
              "      <td>50</td>\n",
              "      <td>Data Scientist</td>\n",
              "      <td>143</td>\n",
              "      <td>NaN</td>\n",
              "      <td>NaN</td>\n",
              "      <td>NaN</td>\n",
              "      <td>NaN</td>\n",
              "      <td>NaN</td>\n",
              "      <td>NaN</td>\n",
              "      <td>NaN</td>\n",
              "    </tr>\n",
              "    <tr>\n",
              "      <th>salary</th>\n",
              "      <td>607.0</td>\n",
              "      <td>NaN</td>\n",
              "      <td>NaN</td>\n",
              "      <td>NaN</td>\n",
              "      <td>324000.062603</td>\n",
              "      <td>1544357.486636</td>\n",
              "      <td>4000.0</td>\n",
              "      <td>70000.0</td>\n",
              "      <td>115000.0</td>\n",
              "      <td>165000.0</td>\n",
              "      <td>30400000.0</td>\n",
              "    </tr>\n",
              "    <tr>\n",
              "      <th>salary_currency</th>\n",
              "      <td>607</td>\n",
              "      <td>17</td>\n",
              "      <td>USD</td>\n",
              "      <td>398</td>\n",
              "      <td>NaN</td>\n",
              "      <td>NaN</td>\n",
              "      <td>NaN</td>\n",
              "      <td>NaN</td>\n",
              "      <td>NaN</td>\n",
              "      <td>NaN</td>\n",
              "      <td>NaN</td>\n",
              "    </tr>\n",
              "    <tr>\n",
              "      <th>salary_in_usd</th>\n",
              "      <td>607.0</td>\n",
              "      <td>NaN</td>\n",
              "      <td>NaN</td>\n",
              "      <td>NaN</td>\n",
              "      <td>112297.869852</td>\n",
              "      <td>70957.259411</td>\n",
              "      <td>2859.0</td>\n",
              "      <td>62726.0</td>\n",
              "      <td>101570.0</td>\n",
              "      <td>150000.0</td>\n",
              "      <td>600000.0</td>\n",
              "    </tr>\n",
              "    <tr>\n",
              "      <th>employee_residence</th>\n",
              "      <td>607</td>\n",
              "      <td>57</td>\n",
              "      <td>US</td>\n",
              "      <td>332</td>\n",
              "      <td>NaN</td>\n",
              "      <td>NaN</td>\n",
              "      <td>NaN</td>\n",
              "      <td>NaN</td>\n",
              "      <td>NaN</td>\n",
              "      <td>NaN</td>\n",
              "      <td>NaN</td>\n",
              "    </tr>\n",
              "    <tr>\n",
              "      <th>remote_ratio</th>\n",
              "      <td>607.0</td>\n",
              "      <td>NaN</td>\n",
              "      <td>NaN</td>\n",
              "      <td>NaN</td>\n",
              "      <td>70.92257</td>\n",
              "      <td>40.70913</td>\n",
              "      <td>0.0</td>\n",
              "      <td>50.0</td>\n",
              "      <td>100.0</td>\n",
              "      <td>100.0</td>\n",
              "      <td>100.0</td>\n",
              "    </tr>\n",
              "    <tr>\n",
              "      <th>company_location</th>\n",
              "      <td>607</td>\n",
              "      <td>50</td>\n",
              "      <td>US</td>\n",
              "      <td>355</td>\n",
              "      <td>NaN</td>\n",
              "      <td>NaN</td>\n",
              "      <td>NaN</td>\n",
              "      <td>NaN</td>\n",
              "      <td>NaN</td>\n",
              "      <td>NaN</td>\n",
              "      <td>NaN</td>\n",
              "    </tr>\n",
              "    <tr>\n",
              "      <th>company_size</th>\n",
              "      <td>607</td>\n",
              "      <td>3</td>\n",
              "      <td>M</td>\n",
              "      <td>326</td>\n",
              "      <td>NaN</td>\n",
              "      <td>NaN</td>\n",
              "      <td>NaN</td>\n",
              "      <td>NaN</td>\n",
              "      <td>NaN</td>\n",
              "      <td>NaN</td>\n",
              "      <td>NaN</td>\n",
              "    </tr>\n",
              "  </tbody>\n",
              "</table>\n",
              "</div>\n",
              "      <button class=\"colab-df-convert\" onclick=\"convertToInteractive('df-a825c7fd-491a-4e81-8112-88d370eeb3f1')\"\n",
              "              title=\"Convert this dataframe to an interactive table.\"\n",
              "              style=\"display:none;\">\n",
              "        \n",
              "  <svg xmlns=\"http://www.w3.org/2000/svg\" height=\"24px\"viewBox=\"0 0 24 24\"\n",
              "       width=\"24px\">\n",
              "    <path d=\"M0 0h24v24H0V0z\" fill=\"none\"/>\n",
              "    <path d=\"M18.56 5.44l.94 2.06.94-2.06 2.06-.94-2.06-.94-.94-2.06-.94 2.06-2.06.94zm-11 1L8.5 8.5l.94-2.06 2.06-.94-2.06-.94L8.5 2.5l-.94 2.06-2.06.94zm10 10l.94 2.06.94-2.06 2.06-.94-2.06-.94-.94-2.06-.94 2.06-2.06.94z\"/><path d=\"M17.41 7.96l-1.37-1.37c-.4-.4-.92-.59-1.43-.59-.52 0-1.04.2-1.43.59L10.3 9.45l-7.72 7.72c-.78.78-.78 2.05 0 2.83L4 21.41c.39.39.9.59 1.41.59.51 0 1.02-.2 1.41-.59l7.78-7.78 2.81-2.81c.8-.78.8-2.07 0-2.86zM5.41 20L4 18.59l7.72-7.72 1.47 1.35L5.41 20z\"/>\n",
              "  </svg>\n",
              "      </button>\n",
              "      \n",
              "  <style>\n",
              "    .colab-df-container {\n",
              "      display:flex;\n",
              "      flex-wrap:wrap;\n",
              "      gap: 12px;\n",
              "    }\n",
              "\n",
              "    .colab-df-convert {\n",
              "      background-color: #E8F0FE;\n",
              "      border: none;\n",
              "      border-radius: 50%;\n",
              "      cursor: pointer;\n",
              "      display: none;\n",
              "      fill: #1967D2;\n",
              "      height: 32px;\n",
              "      padding: 0 0 0 0;\n",
              "      width: 32px;\n",
              "    }\n",
              "\n",
              "    .colab-df-convert:hover {\n",
              "      background-color: #E2EBFA;\n",
              "      box-shadow: 0px 1px 2px rgba(60, 64, 67, 0.3), 0px 1px 3px 1px rgba(60, 64, 67, 0.15);\n",
              "      fill: #174EA6;\n",
              "    }\n",
              "\n",
              "    [theme=dark] .colab-df-convert {\n",
              "      background-color: #3B4455;\n",
              "      fill: #D2E3FC;\n",
              "    }\n",
              "\n",
              "    [theme=dark] .colab-df-convert:hover {\n",
              "      background-color: #434B5C;\n",
              "      box-shadow: 0px 1px 3px 1px rgba(0, 0, 0, 0.15);\n",
              "      filter: drop-shadow(0px 1px 2px rgba(0, 0, 0, 0.3));\n",
              "      fill: #FFFFFF;\n",
              "    }\n",
              "  </style>\n",
              "\n",
              "      <script>\n",
              "        const buttonEl =\n",
              "          document.querySelector('#df-a825c7fd-491a-4e81-8112-88d370eeb3f1 button.colab-df-convert');\n",
              "        buttonEl.style.display =\n",
              "          google.colab.kernel.accessAllowed ? 'block' : 'none';\n",
              "\n",
              "        async function convertToInteractive(key) {\n",
              "          const element = document.querySelector('#df-a825c7fd-491a-4e81-8112-88d370eeb3f1');\n",
              "          const dataTable =\n",
              "            await google.colab.kernel.invokeFunction('convertToInteractive',\n",
              "                                                     [key], {});\n",
              "          if (!dataTable) return;\n",
              "\n",
              "          const docLinkHtml = 'Like what you see? Visit the ' +\n",
              "            '<a target=\"_blank\" href=https://colab.research.google.com/notebooks/data_table.ipynb>data table notebook</a>'\n",
              "            + ' to learn more about interactive tables.';\n",
              "          element.innerHTML = '';\n",
              "          dataTable['output_type'] = 'display_data';\n",
              "          await google.colab.output.renderOutput(dataTable, element);\n",
              "          const docLink = document.createElement('div');\n",
              "          docLink.innerHTML = docLinkHtml;\n",
              "          element.appendChild(docLink);\n",
              "        }\n",
              "      </script>\n",
              "    </div>\n",
              "  </div>\n",
              "  "
            ]
          },
          "metadata": {},
          "execution_count": 4
        }
      ]
    },
    {
      "cell_type": "code",
      "source": [
        "#Distribución de la variable Salary_in_usd\n",
        "\n",
        "plt.figure(figsize=(13, 10))\n",
        "sns.histplot(df_sal.salary_in_usd); #no distribuye normal, esta acumulado hacia los valores chicos, ideal utilizar el método de correlación de Kendall"
      ],
      "metadata": {
        "colab": {
          "base_uri": "https://localhost:8080/",
          "height": 606
        },
        "id": "pIldN87yat5i",
        "outputId": "835a9236-767a-44cc-e58a-64e2345ca0e1"
      },
      "execution_count": 5,
      "outputs": [
        {
          "output_type": "display_data",
          "data": {
            "text/plain": [
              "<Figure size 936x720 with 1 Axes>"
            ],
            "image/png": "[encoded data removed]"
          },
          "metadata": {
            "needs_background": "light"
          }
        }
      ]
    },
    {
      "cell_type": "code",
      "source": [
        "df_num = df_sal.select_dtypes(include='number')\n",
        "df_num.corr()  #Obtengo la correlación entre las variables solo numéricas"
      ],
      "metadata": {
        "colab": {
          "base_uri": "https://localhost:8080/",
          "height": 175
        },
        "id": "EJbvrjjJbFU_",
        "outputId": "4f1604ac-272e-4238-b63d-e7c9187316f5"
      },
      "execution_count": 6,
      "outputs": [
        {
          "output_type": "execute_result",
          "data": {
            "text/plain": [
              "               work_year    salary  salary_in_usd  remote_ratio\n",
              "work_year       1.000000 -0.087577       0.170493      0.076314\n",
              "salary         -0.087577  1.000000      -0.083906     -0.014608\n",
              "salary_in_usd   0.170493 -0.083906       1.000000      0.132122\n",
              "remote_ratio    0.076314 -0.014608       0.132122      1.000000"
            ],
            "text/html": [
              "\n",
              "  <div id=\"df-30911cab-d4c9-43b7-a14f-6bfa766cdd00\">\n",
              "    <div class=\"colab-df-container\">\n",
              "      <div>\n",
              "<style scoped>\n",
              "    .dataframe tbody tr th:only-of-type {\n",
              "        vertical-align: middle;\n",
              "    }\n",
              "\n",
              "    .dataframe tbody tr th {\n",
              "        vertical-align: top;\n",
              "    }\n",
              "\n",
              "    .dataframe thead th {\n",
              "        text-align: right;\n",
              "    }\n",
              "</style>\n",
              "<table border=\"1\" class=\"dataframe\">\n",
              "  <thead>\n",
              "    <tr style=\"text-align: right;\">\n",
              "      <th></th>\n",
              "      <th>work_year</th>\n",
              "      <th>salary</th>\n",
              "      <th>salary_in_usd</th>\n",
              "      <th>remote_ratio</th>\n",
              "    </tr>\n",
              "  </thead>\n",
              "  <tbody>\n",
              "    <tr>\n",
              "      <th>work_year</th>\n",
              "      <td>1.000000</td>\n",
              "      <td>-0.087577</td>\n",
              "      <td>0.170493</td>\n",
              "      <td>0.076314</td>\n",
              "    </tr>\n",
              "    <tr>\n",
              "      <th>salary</th>\n",
              "      <td>-0.087577</td>\n",
              "      <td>1.000000</td>\n",
              "      <td>-0.083906</td>\n",
              "      <td>-0.014608</td>\n",
              "    </tr>\n",
              "    <tr>\n",
              "      <th>salary_in_usd</th>\n",
              "      <td>0.170493</td>\n",
              "      <td>-0.083906</td>\n",
              "      <td>1.000000</td>\n",
              "      <td>0.132122</td>\n",
              "    </tr>\n",
              "    <tr>\n",
              "      <th>remote_ratio</th>\n",
              "      <td>0.076314</td>\n",
              "      <td>-0.014608</td>\n",
              "      <td>0.132122</td>\n",
              "      <td>1.000000</td>\n",
              "    </tr>\n",
              "  </tbody>\n",
              "</table>\n",
              "</div>\n",
              "      <button class=\"colab-df-convert\" onclick=\"convertToInteractive('df-30911cab-d4c9-43b7-a14f-6bfa766cdd00')\"\n",
              "              title=\"Convert this dataframe to an interactive table.\"\n",
              "              style=\"display:none;\">\n",
              "        \n",
              "  <svg xmlns=\"http://www.w3.org/2000/svg\" height=\"24px\"viewBox=\"0 0 24 24\"\n",
              "       width=\"24px\">\n",
              "    <path d=\"M0 0h24v24H0V0z\" fill=\"none\"/>\n",
              "    <path d=\"M18.56 5.44l.94 2.06.94-2.06 2.06-.94-2.06-.94-.94-2.06-.94 2.06-2.06.94zm-11 1L8.5 8.5l.94-2.06 2.06-.94-2.06-.94L8.5 2.5l-.94 2.06-2.06.94zm10 10l.94 2.06.94-2.06 2.06-.94-2.06-.94-.94-2.06-.94 2.06-2.06.94z\"/><path d=\"M17.41 7.96l-1.37-1.37c-.4-.4-.92-.59-1.43-.59-.52 0-1.04.2-1.43.59L10.3 9.45l-7.72 7.72c-.78.78-.78 2.05 0 2.83L4 21.41c.39.39.9.59 1.41.59.51 0 1.02-.2 1.41-.59l7.78-7.78 2.81-2.81c.8-.78.8-2.07 0-2.86zM5.41 20L4 18.59l7.72-7.72 1.47 1.35L5.41 20z\"/>\n",
              "  </svg>\n",
              "      </button>\n",
              "      \n",
              "  <style>\n",
              "    .colab-df-container {\n",
              "      display:flex;\n",
              "      flex-wrap:wrap;\n",
              "      gap: 12px;\n",
              "    }\n",
              "\n",
              "    .colab-df-convert {\n",
              "      background-color: #E8F0FE;\n",
              "      border: none;\n",
              "      border-radius: 50%;\n",
              "      cursor: pointer;\n",
              "      display: none;\n",
              "      fill: #1967D2;\n",
              "      height: 32px;\n",
              "      padding: 0 0 0 0;\n",
              "      width: 32px;\n",
              "    }\n",
              "\n",
              "    .colab-df-convert:hover {\n",
              "      background-color: #E2EBFA;\n",
              "      box-shadow: 0px 1px 2px rgba(60, 64, 67, 0.3), 0px 1px 3px 1px rgba(60, 64, 67, 0.15);\n",
              "      fill: #174EA6;\n",
              "    }\n",
              "\n",
              "    [theme=dark] .colab-df-convert {\n",
              "      background-color: #3B4455;\n",
              "      fill: #D2E3FC;\n",
              "    }\n",
              "\n",
              "    [theme=dark] .colab-df-convert:hover {\n",
              "      background-color: #434B5C;\n",
              "      box-shadow: 0px 1px 3px 1px rgba(0, 0, 0, 0.15);\n",
              "      filter: drop-shadow(0px 1px 2px rgba(0, 0, 0, 0.3));\n",
              "      fill: #FFFFFF;\n",
              "    }\n",
              "  </style>\n",
              "\n",
              "      <script>\n",
              "        const buttonEl =\n",
              "          document.querySelector('#df-30911cab-d4c9-43b7-a14f-6bfa766cdd00 button.colab-df-convert');\n",
              "        buttonEl.style.display =\n",
              "          google.colab.kernel.accessAllowed ? 'block' : 'none';\n",
              "\n",
              "        async function convertToInteractive(key) {\n",
              "          const element = document.querySelector('#df-30911cab-d4c9-43b7-a14f-6bfa766cdd00');\n",
              "          const dataTable =\n",
              "            await google.colab.kernel.invokeFunction('convertToInteractive',\n",
              "                                                     [key], {});\n",
              "          if (!dataTable) return;\n",
              "\n",
              "          const docLinkHtml = 'Like what you see? Visit the ' +\n",
              "            '<a target=\"_blank\" href=https://colab.research.google.com/notebooks/data_table.ipynb>data table notebook</a>'\n",
              "            + ' to learn more about interactive tables.';\n",
              "          element.innerHTML = '';\n",
              "          dataTable['output_type'] = 'display_data';\n",
              "          await google.colab.output.renderOutput(dataTable, element);\n",
              "          const docLink = document.createElement('div');\n",
              "          docLink.innerHTML = docLinkHtml;\n",
              "          element.appendChild(docLink);\n",
              "        }\n",
              "      </script>\n",
              "    </div>\n",
              "  </div>\n",
              "  "
            ]
          },
          "metadata": {},
          "execution_count": 6
        }
      ]
    },
    {
      "cell_type": "markdown",
      "source": [
        "La mayor correlación de Pearson dentro de las variables numéricas se da entre salary_in_usd y work_year. \n"
      ],
      "metadata": {
        "id": "4xdAq7jfbQ02"
      }
    },
    {
      "cell_type": "code",
      "source": [
        "df_sal.drop([ 'salary','salary_currency'], axis = 1, inplace=True) "
      ],
      "metadata": {
        "id": "q7kgDLQsdF1j"
      },
      "execution_count": 7,
      "outputs": []
    },
    {
      "cell_type": "markdown",
      "source": [
        "Salary es el salario total basandose en la moneda de pago del salario. Si nuestro target es salary in usd decidimos eliminar tanto la columna salary_currency y salary para solamente quedarnos con el salario en una unica moneda (USD)."
      ],
      "metadata": {
        "id": "7NmBnA-fdsz7"
      }
    },
    {
      "cell_type": "code",
      "source": [
        "#variables numéricas \n",
        "num_columns = df_sal.select_dtypes(include = [\"number\"]).columns\n",
        "#variables catégoricas \n",
        "cat_columns = df_sal.select_dtypes(include = [\"object\"]).columns"
      ],
      "metadata": {
        "id": "yL5DCM2H_gUP"
      },
      "execution_count": 8,
      "outputs": []
    },
    {
      "cell_type": "code",
      "source": [
        "num_columns"
      ],
      "metadata": {
        "colab": {
          "base_uri": "https://localhost:8080/"
        },
        "id": "LVXPgXuXSw-C",
        "outputId": "1288cbb1-b1d4-410b-9b04-1d08b4b2e127"
      },
      "execution_count": 9,
      "outputs": [
        {
          "output_type": "execute_result",
          "data": {
            "text/plain": [
              "Index(['work_year', 'salary_in_usd', 'remote_ratio'], dtype='object')"
            ]
          },
          "metadata": {},
          "execution_count": 9
        }
      ]
    },
    {
      "cell_type": "code",
      "source": [
        "#split in target \n",
        "X = df_sal.drop('salary_in_usd', axis=1) #Selecciono mi X eliminando mi variable target\n",
        "y = df_sal['salary_in_usd'] #Selecciono mi target que es Salario en USD\n",
        "\n",
        "#spliteo de train y test \n",
        "#Divido mi data set para poder obtener un conjunto para entrenar y otro para validarlo\n",
        "#Obtengo un 20% de mi conjunto de datos para testearlo\n",
        "X_train , X_test , y_train, y_test = train_test_split(X, y , test_size = 0.2)"
      ],
      "metadata": {
        "id": "xZsnRAG1gfPm"
      },
      "execution_count": 10,
      "outputs": []
    },
    {
      "cell_type": "code",
      "source": [
        "cat_columns_ordinal = ['employee_residence', 'company_location', 'job_title']\n",
        "cat_column_ohe = ['experience_level', 'employment_type', 'company_size']\n",
        "num_columns_trans = ['work_year','remote_ratio']"
      ],
      "metadata": {
        "id": "PrN7UmJU3qAI"
      },
      "execution_count": 11,
      "outputs": []
    },
    {
      "cell_type": "code",
      "source": [
        "#genero el pipeline para numericas \n",
        "#numeric_transformer = Pipeline(\n",
        " #   steps=[\n",
        "  #      ('fill', SimpleImputer()), \n",
        "   #     ('scaler', RobustScaler())]\n",
        "    #    )\n",
        "\n",
        "#genero un pipeline para ordinal\n",
        "\n",
        "cat_ordinal_encode = Pipeline(\n",
        "    steps=[('ordinal', OrdinalEncoder(handle_unknown=\"use_encoded_value\", unknown_value=-1))]\n",
        ")\n",
        "#genero un pipeline one hot para las variables nominales\n",
        "cat_ohe_encode = Pipeline(\n",
        "    steps=[('ohe', OneHotEncoder(handle_unknown='ignore', sparse=False))]\n",
        ")\n",
        "\n",
        "#funcion que corre ambos pipelines y luego los joinea\n",
        "preprocessor = ColumnTransformer(\n",
        "    transformers=[\n",
        "        #(\"num\", numeric_transformer, make_column_selector(dtype_exclude=object)),\n",
        "        ('cat_ordinal',cat_ordinal_encode, cat_columns_ordinal),\n",
        "        ('cat_nominal', cat_ohe_encode, cat_column_ohe)\n",
        "\n",
        "    ]\n",
        ")\n",
        "\n",
        "#entrenamiento del pipeline\n",
        "preprocessor.fit(X_train)"
      ],
      "metadata": {
        "colab": {
          "base_uri": "https://localhost:8080/"
        },
        "id": "fyXv_9fqg4me",
        "outputId": "ec53e999-ba9f-4f49-c317-90487546e256"
      },
      "execution_count": 12,
      "outputs": [
        {
          "output_type": "execute_result",
          "data": {
            "text/plain": [
              "ColumnTransformer(transformers=[('cat_ordinal',\n",
              "                                 Pipeline(steps=[('ordinal',\n",
              "                                                  OrdinalEncoder(handle_unknown='use_encoded_value',\n",
              "                                                                 unknown_value=-1))]),\n",
              "                                 ['employee_residence', 'company_location',\n",
              "                                  'job_title']),\n",
              "                                ('cat_nominal',\n",
              "                                 Pipeline(steps=[('ohe',\n",
              "                                                  OneHotEncoder(handle_unknown='ignore',\n",
              "                                                                sparse=False))]),\n",
              "                                 ['experience_level', 'employment_type',\n",
              "                                  'company_size'])])"
            ]
          },
          "metadata": {},
          "execution_count": 12
        }
      ]
    },
    {
      "cell_type": "code",
      "source": [
        "#trasnformacion de datos\n",
        "\n",
        "#colum = preprocessor.named_transformers_['cat_nominal']['ohe'].get_feature_names_out(cat_column_ohe)\n",
        "\n",
        "#new_column = ['employee_residence', 'company_location', 'job_title','work_year','remote_ratio'] + list(colum)\n",
        "  #encuentro las columnas que trabaje\n",
        "#old_columns = ['employee_residence', 'company_location', 'job_title'] + ['experience_level', 'employment_type', 'company_size'] + ['work_year','remote_ratio']\n",
        "\n",
        "#X_train_enc = pd.DataFrame(preprocessor.transform(X_train), columns = new_column, index= X_train.index)\n",
        "#X_train_enc"
      ],
      "metadata": {
        "colab": {
          "base_uri": "https://localhost:8080/",
          "height": 488
        },
        "id": "Z2BLjODnBnmJ",
        "outputId": "3eec5ad7-91d5-4aae-cef0-69b6cd41c98c"
      },
      "execution_count": null,
      "outputs": [
        {
          "output_type": "execute_result",
          "data": {
            "text/plain": [
              "     employee_residence  company_location  job_title  work_year  remote_ratio  \\\n",
              "374                 0.0              -2.0       19.0       17.0          24.0   \n",
              "473                 0.0               0.0       46.0       42.0          20.0   \n",
              "492                 0.0               0.0       38.0       35.0          20.0   \n",
              "419                 0.0               0.0       46.0       42.0          37.0   \n",
              "396                 0.0               0.0       17.0       10.0          35.0   \n",
              "..                  ...               ...        ...        ...           ...   \n",
              "471                 0.0               0.0       46.0       42.0          10.0   \n",
              "45                 -2.0               0.0       12.0       10.0          33.0   \n",
              "377                 0.0               0.0       46.0       42.0          15.0   \n",
              "68                 -2.0               0.0       46.0       42.0          20.0   \n",
              "233                -1.0               0.0       46.0       42.0          10.0   \n",
              "\n",
              "     experience_level_EN  experience_level_EX  experience_level_MI  \\\n",
              "374                  0.0                  0.0                  1.0   \n",
              "473                  0.0                  0.0                  0.0   \n",
              "492                  0.0                  0.0                  1.0   \n",
              "419                  0.0                  0.0                  1.0   \n",
              "396                  0.0                  0.0                  1.0   \n",
              "..                   ...                  ...                  ...   \n",
              "471                  0.0                  0.0                  1.0   \n",
              "45                   1.0                  0.0                  0.0   \n",
              "377                  0.0                  0.0                  0.0   \n",
              "68                   1.0                  0.0                  0.0   \n",
              "233                  0.0                  0.0                  0.0   \n",
              "\n",
              "     experience_level_SE  employment_type_CT  employment_type_FL  \\\n",
              "374                  0.0                 0.0                 0.0   \n",
              "473                  1.0                 0.0                 0.0   \n",
              "492                  0.0                 0.0                 0.0   \n",
              "419                  0.0                 0.0                 0.0   \n",
              "396                  0.0                 0.0                 0.0   \n",
              "..                   ...                 ...                 ...   \n",
              "471                  0.0                 0.0                 0.0   \n",
              "45                   0.0                 0.0                 0.0   \n",
              "377                  1.0                 0.0                 0.0   \n",
              "68                   0.0                 0.0                 0.0   \n",
              "233                  1.0                 0.0                 0.0   \n",
              "\n",
              "     employment_type_FT  employment_type_PT  company_size_L  company_size_M  \\\n",
              "374                 1.0                 0.0             0.0             1.0   \n",
              "473                 1.0                 0.0             0.0             1.0   \n",
              "492                 1.0                 0.0             1.0             0.0   \n",
              "419                 1.0                 0.0             1.0             0.0   \n",
              "396                 1.0                 0.0             0.0             1.0   \n",
              "..                  ...                 ...             ...             ...   \n",
              "471                 1.0                 0.0             0.0             1.0   \n",
              "45                  0.0                 1.0             0.0             0.0   \n",
              "377                 1.0                 0.0             0.0             1.0   \n",
              "68                  1.0                 0.0             0.0             0.0   \n",
              "233                 1.0                 0.0             1.0             0.0   \n",
              "\n",
              "     company_size_S  \n",
              "374             0.0  \n",
              "473             0.0  \n",
              "492             0.0  \n",
              "419             0.0  \n",
              "396             0.0  \n",
              "..              ...  \n",
              "471             0.0  \n",
              "45              1.0  \n",
              "377             0.0  \n",
              "68              1.0  \n",
              "233             0.0  \n",
              "\n",
              "[485 rows x 16 columns]"
            ],
            "text/html": [
              "\n",
              "  <div id=\"df-9ca85e1f-6641-4ac0-93fd-4acea42419cb\">\n",
              "    <div class=\"colab-df-container\">\n",
              "      <div>\n",
              "<style scoped>\n",
              "    .dataframe tbody tr th:only-of-type {\n",
              "        vertical-align: middle;\n",
              "    }\n",
              "\n",
              "    .dataframe tbody tr th {\n",
              "        vertical-align: top;\n",
              "    }\n",
              "\n",
              "    .dataframe thead th {\n",
              "        text-align: right;\n",
              "    }\n",
              "</style>\n",
              "<table border=\"1\" class=\"dataframe\">\n",
              "  <thead>\n",
              "    <tr style=\"text-align: right;\">\n",
              "      <th></th>\n",
              "      <th>employee_residence</th>\n",
              "      <th>company_location</th>\n",
              "      <th>job_title</th>\n",
              "      <th>work_year</th>\n",
              "      <th>remote_ratio</th>\n",
              "      <th>experience_level_EN</th>\n",
              "      <th>experience_level_EX</th>\n",
              "      <th>experience_level_MI</th>\n",
              "      <th>experience_level_SE</th>\n",
              "      <th>employment_type_CT</th>\n",
              "      <th>employment_type_FL</th>\n",
              "      <th>employment_type_FT</th>\n",
              "      <th>employment_type_PT</th>\n",
              "      <th>company_size_L</th>\n",
              "      <th>company_size_M</th>\n",
              "      <th>company_size_S</th>\n",
              "    </tr>\n",
              "  </thead>\n",
              "  <tbody>\n",
              "    <tr>\n",
              "      <th>374</th>\n",
              "      <td>0.0</td>\n",
              "      <td>-2.0</td>\n",
              "      <td>19.0</td>\n",
              "      <td>17.0</td>\n",
              "      <td>24.0</td>\n",
              "      <td>0.0</td>\n",
              "      <td>0.0</td>\n",
              "      <td>1.0</td>\n",
              "      <td>0.0</td>\n",
              "      <td>0.0</td>\n",
              "      <td>0.0</td>\n",
              "      <td>1.0</td>\n",
              "      <td>0.0</td>\n",
              "      <td>0.0</td>\n",
              "      <td>1.0</td>\n",
              "      <td>0.0</td>\n",
              "    </tr>\n",
              "    <tr>\n",
              "      <th>473</th>\n",
              "      <td>0.0</td>\n",
              "      <td>0.0</td>\n",
              "      <td>46.0</td>\n",
              "      <td>42.0</td>\n",
              "      <td>20.0</td>\n",
              "      <td>0.0</td>\n",
              "      <td>0.0</td>\n",
              "      <td>0.0</td>\n",
              "      <td>1.0</td>\n",
              "      <td>0.0</td>\n",
              "      <td>0.0</td>\n",
              "      <td>1.0</td>\n",
              "      <td>0.0</td>\n",
              "      <td>0.0</td>\n",
              "      <td>1.0</td>\n",
              "      <td>0.0</td>\n",
              "    </tr>\n",
              "    <tr>\n",
              "      <th>492</th>\n",
              "      <td>0.0</td>\n",
              "      <td>0.0</td>\n",
              "      <td>38.0</td>\n",
              "      <td>35.0</td>\n",
              "      <td>20.0</td>\n",
              "      <td>0.0</td>\n",
              "      <td>0.0</td>\n",
              "      <td>1.0</td>\n",
              "      <td>0.0</td>\n",
              "      <td>0.0</td>\n",
              "      <td>0.0</td>\n",
              "      <td>1.0</td>\n",
              "      <td>0.0</td>\n",
              "      <td>1.0</td>\n",
              "      <td>0.0</td>\n",
              "      <td>0.0</td>\n",
              "    </tr>\n",
              "    <tr>\n",
              "      <th>419</th>\n",
              "      <td>0.0</td>\n",
              "      <td>0.0</td>\n",
              "      <td>46.0</td>\n",
              "      <td>42.0</td>\n",
              "      <td>37.0</td>\n",
              "      <td>0.0</td>\n",
              "      <td>0.0</td>\n",
              "      <td>1.0</td>\n",
              "      <td>0.0</td>\n",
              "      <td>0.0</td>\n",
              "      <td>0.0</td>\n",
              "      <td>1.0</td>\n",
              "      <td>0.0</td>\n",
              "      <td>1.0</td>\n",
              "      <td>0.0</td>\n",
              "      <td>0.0</td>\n",
              "    </tr>\n",
              "    <tr>\n",
              "      <th>396</th>\n",
              "      <td>0.0</td>\n",
              "      <td>0.0</td>\n",
              "      <td>17.0</td>\n",
              "      <td>10.0</td>\n",
              "      <td>35.0</td>\n",
              "      <td>0.0</td>\n",
              "      <td>0.0</td>\n",
              "      <td>1.0</td>\n",
              "      <td>0.0</td>\n",
              "      <td>0.0</td>\n",
              "      <td>0.0</td>\n",
              "      <td>1.0</td>\n",
              "      <td>0.0</td>\n",
              "      <td>0.0</td>\n",
              "      <td>1.0</td>\n",
              "      <td>0.0</td>\n",
              "    </tr>\n",
              "    <tr>\n",
              "      <th>...</th>\n",
              "      <td>...</td>\n",
              "      <td>...</td>\n",
              "      <td>...</td>\n",
              "      <td>...</td>\n",
              "      <td>...</td>\n",
              "      <td>...</td>\n",
              "      <td>...</td>\n",
              "      <td>...</td>\n",
              "      <td>...</td>\n",
              "      <td>...</td>\n",
              "      <td>...</td>\n",
              "      <td>...</td>\n",
              "      <td>...</td>\n",
              "      <td>...</td>\n",
              "      <td>...</td>\n",
              "      <td>...</td>\n",
              "    </tr>\n",
              "    <tr>\n",
              "      <th>471</th>\n",
              "      <td>0.0</td>\n",
              "      <td>0.0</td>\n",
              "      <td>46.0</td>\n",
              "      <td>42.0</td>\n",
              "      <td>10.0</td>\n",
              "      <td>0.0</td>\n",
              "      <td>0.0</td>\n",
              "      <td>1.0</td>\n",
              "      <td>0.0</td>\n",
              "      <td>0.0</td>\n",
              "      <td>0.0</td>\n",
              "      <td>1.0</td>\n",
              "      <td>0.0</td>\n",
              "      <td>0.0</td>\n",
              "      <td>1.0</td>\n",
              "      <td>0.0</td>\n",
              "    </tr>\n",
              "    <tr>\n",
              "      <th>45</th>\n",
              "      <td>-2.0</td>\n",
              "      <td>0.0</td>\n",
              "      <td>12.0</td>\n",
              "      <td>10.0</td>\n",
              "      <td>33.0</td>\n",
              "      <td>1.0</td>\n",
              "      <td>0.0</td>\n",
              "      <td>0.0</td>\n",
              "      <td>0.0</td>\n",
              "      <td>0.0</td>\n",
              "      <td>0.0</td>\n",
              "      <td>0.0</td>\n",
              "      <td>1.0</td>\n",
              "      <td>0.0</td>\n",
              "      <td>0.0</td>\n",
              "      <td>1.0</td>\n",
              "    </tr>\n",
              "    <tr>\n",
              "      <th>377</th>\n",
              "      <td>0.0</td>\n",
              "      <td>0.0</td>\n",
              "      <td>46.0</td>\n",
              "      <td>42.0</td>\n",
              "      <td>15.0</td>\n",
              "      <td>0.0</td>\n",
              "      <td>0.0</td>\n",
              "      <td>0.0</td>\n",
              "      <td>1.0</td>\n",
              "      <td>0.0</td>\n",
              "      <td>0.0</td>\n",
              "      <td>1.0</td>\n",
              "      <td>0.0</td>\n",
              "      <td>0.0</td>\n",
              "      <td>1.0</td>\n",
              "      <td>0.0</td>\n",
              "    </tr>\n",
              "    <tr>\n",
              "      <th>68</th>\n",
              "      <td>-2.0</td>\n",
              "      <td>0.0</td>\n",
              "      <td>46.0</td>\n",
              "      <td>42.0</td>\n",
              "      <td>20.0</td>\n",
              "      <td>1.0</td>\n",
              "      <td>0.0</td>\n",
              "      <td>0.0</td>\n",
              "      <td>0.0</td>\n",
              "      <td>0.0</td>\n",
              "      <td>0.0</td>\n",
              "      <td>1.0</td>\n",
              "      <td>0.0</td>\n",
              "      <td>0.0</td>\n",
              "      <td>0.0</td>\n",
              "      <td>1.0</td>\n",
              "    </tr>\n",
              "    <tr>\n",
              "      <th>233</th>\n",
              "      <td>-1.0</td>\n",
              "      <td>0.0</td>\n",
              "      <td>46.0</td>\n",
              "      <td>42.0</td>\n",
              "      <td>10.0</td>\n",
              "      <td>0.0</td>\n",
              "      <td>0.0</td>\n",
              "      <td>0.0</td>\n",
              "      <td>1.0</td>\n",
              "      <td>0.0</td>\n",
              "      <td>0.0</td>\n",
              "      <td>1.0</td>\n",
              "      <td>0.0</td>\n",
              "      <td>1.0</td>\n",
              "      <td>0.0</td>\n",
              "      <td>0.0</td>\n",
              "    </tr>\n",
              "  </tbody>\n",
              "</table>\n",
              "<p>485 rows × 16 columns</p>\n",
              "</div>\n",
              "      <button class=\"colab-df-convert\" onclick=\"convertToInteractive('df-9ca85e1f-6641-4ac0-93fd-4acea42419cb')\"\n",
              "              title=\"Convert this dataframe to an interactive table.\"\n",
              "              style=\"display:none;\">\n",
              "        \n",
              "  <svg xmlns=\"http://www.w3.org/2000/svg\" height=\"24px\"viewBox=\"0 0 24 24\"\n",
              "       width=\"24px\">\n",
              "    <path d=\"M0 0h24v24H0V0z\" fill=\"none\"/>\n",
              "    <path d=\"M18.56 5.44l.94 2.06.94-2.06 2.06-.94-2.06-.94-.94-2.06-.94 2.06-2.06.94zm-11 1L8.5 8.5l.94-2.06 2.06-.94-2.06-.94L8.5 2.5l-.94 2.06-2.06.94zm10 10l.94 2.06.94-2.06 2.06-.94-2.06-.94-.94-2.06-.94 2.06-2.06.94z\"/><path d=\"M17.41 7.96l-1.37-1.37c-.4-.4-.92-.59-1.43-.59-.52 0-1.04.2-1.43.59L10.3 9.45l-7.72 7.72c-.78.78-.78 2.05 0 2.83L4 21.41c.39.39.9.59 1.41.59.51 0 1.02-.2 1.41-.59l7.78-7.78 2.81-2.81c.8-.78.8-2.07 0-2.86zM5.41 20L4 18.59l7.72-7.72 1.47 1.35L5.41 20z\"/>\n",
              "  </svg>\n",
              "      </button>\n",
              "      \n",
              "  <style>\n",
              "    .colab-df-container {\n",
              "      display:flex;\n",
              "      flex-wrap:wrap;\n",
              "      gap: 12px;\n",
              "    }\n",
              "\n",
              "    .colab-df-convert {\n",
              "      background-color: #E8F0FE;\n",
              "      border: none;\n",
              "      border-radius: 50%;\n",
              "      cursor: pointer;\n",
              "      display: none;\n",
              "      fill: #1967D2;\n",
              "      height: 32px;\n",
              "      padding: 0 0 0 0;\n",
              "      width: 32px;\n",
              "    }\n",
              "\n",
              "    .colab-df-convert:hover {\n",
              "      background-color: #E2EBFA;\n",
              "      box-shadow: 0px 1px 2px rgba(60, 64, 67, 0.3), 0px 1px 3px 1px rgba(60, 64, 67, 0.15);\n",
              "      fill: #174EA6;\n",
              "    }\n",
              "\n",
              "    [theme=dark] .colab-df-convert {\n",
              "      background-color: #3B4455;\n",
              "      fill: #D2E3FC;\n",
              "    }\n",
              "\n",
              "    [theme=dark] .colab-df-convert:hover {\n",
              "      background-color: #434B5C;\n",
              "      box-shadow: 0px 1px 3px 1px rgba(0, 0, 0, 0.15);\n",
              "      filter: drop-shadow(0px 1px 2px rgba(0, 0, 0, 0.3));\n",
              "      fill: #FFFFFF;\n",
              "    }\n",
              "  </style>\n",
              "\n",
              "      <script>\n",
              "        const buttonEl =\n",
              "          document.querySelector('#df-9ca85e1f-6641-4ac0-93fd-4acea42419cb button.colab-df-convert');\n",
              "        buttonEl.style.display =\n",
              "          google.colab.kernel.accessAllowed ? 'block' : 'none';\n",
              "\n",
              "        async function convertToInteractive(key) {\n",
              "          const element = document.querySelector('#df-9ca85e1f-6641-4ac0-93fd-4acea42419cb');\n",
              "          const dataTable =\n",
              "            await google.colab.kernel.invokeFunction('convertToInteractive',\n",
              "                                                     [key], {});\n",
              "          if (!dataTable) return;\n",
              "\n",
              "          const docLinkHtml = 'Like what you see? Visit the ' +\n",
              "            '<a target=\"_blank\" href=https://colab.research.google.com/notebooks/data_table.ipynb>data table notebook</a>'\n",
              "            + ' to learn more about interactive tables.';\n",
              "          element.innerHTML = '';\n",
              "          dataTable['output_type'] = 'display_data';\n",
              "          await google.colab.output.renderOutput(dataTable, element);\n",
              "          const docLink = document.createElement('div');\n",
              "          docLink.innerHTML = docLinkHtml;\n",
              "          element.appendChild(docLink);\n",
              "        }\n",
              "      </script>\n",
              "    </div>\n",
              "  </div>\n",
              "  "
            ]
          },
          "metadata": {},
          "execution_count": 152
        }
      ]
    },
    {
      "cell_type": "code",
      "source": [
        "# Funcion de transformarcion\n",
        "\n",
        "def trasnform_with_pipe(pipe, X_train):\n",
        "  \n",
        "  #obtengo las columnas de ohe\n",
        "  colum = pipe.named_transformers_['cat_nominal']['ohe'].get_feature_names_out(['experience_level', 'employment_type', 'company_size'])\n",
        "\n",
        "  #genreo las nuevas columnas\n",
        "  new_column = ['employee_residence', 'company_location', 'job_title'] + list(colum)\n",
        "  #encuentro las columnas que trabaje\n",
        "  old_columns = ['employee_residence', 'company_location', 'job_title'] + ['experience_level', 'employment_type', 'company_size']\n",
        "\n",
        "  #genero dataframe con la trasnfomramcion y ademas agego clumnas nuevas y mismo indice que train\n",
        "  X_train_enc = pd.DataFrame(pipe.transform(X_train), columns = new_column, index= X_train.index)\n",
        "  #elimino columnas viejas\n",
        "  X_train.drop( old_columns , axis=1, inplace=True)\n",
        "  return pd.merge(X_train, X_train_enc, left_index=True, right_index=True)\n"
      ],
      "metadata": {
        "id": "5ucwQ9sRS8vO"
      },
      "execution_count": 13,
      "outputs": []
    },
    {
      "cell_type": "code",
      "source": [
        "#trasnform data en base a la funcion\n",
        "X_train_model = trasnform_with_pipe(preprocessor, X_train)\n",
        "X_test_model = trasnform_with_pipe(preprocessor, X_test)"
      ],
      "metadata": {
        "id": "zVNPWKa2T8Sa"
      },
      "execution_count": 14,
      "outputs": []
    },
    {
      "cell_type": "markdown",
      "source": [
        "#Entrenamiento del Modelo"
      ],
      "metadata": {
        "id": "hquA_RX7hyn6"
      }
    },
    {
      "cell_type": "code",
      "source": [
        "from sklearn.ensemble import GradientBoostingRegressor\n",
        "from sklearn.metrics import mean_absolute_error, mean_absolute_percentage_error, mean_squared_error\n",
        "from sklearn.model_selection import RandomizedSearchCV\n",
        "\n",
        "from lightgbm.sklearn import LGBMRegressor\n",
        "from xgboost import XGBRegressor\n",
        "import random"
      ],
      "metadata": {
        "id": "WvETa74mh1WU"
      },
      "execution_count": 15,
      "outputs": []
    },
    {
      "cell_type": "code",
      "source": [
        "#parametros globales para Xgboost, GBM,  LGBM\n",
        "# parametros globales\n",
        "num_estimators = np.linspace(100, 700, num = 10, endpoint = True).astype(int)\n",
        "max_depth = random.sample(range(1, 30), 20)\n",
        "learning_rate = np.arange (0.001, 1, 0.005)\n",
        "\n",
        "#gradiante y adaboost\n",
        "max_features = np.arange(start = 1, stop = X_train.shape[1]+1, step = 1)\n",
        "\n",
        "#xgboost\n",
        "booster = ['gbtree']\n",
        "\n",
        "\n"
      ],
      "metadata": {
        "id": "TB-ldw0-kIG5"
      },
      "execution_count": 16,
      "outputs": []
    },
    {
      "cell_type": "code",
      "source": [
        "#params globales\n",
        "params_global = {'n_estimators': num_estimators,\n",
        "                 'max_depth': max_depth, \n",
        "                 'learning_rate': learning_rate}"
      ],
      "metadata": {
        "id": "v8b5XDXVpWfO"
      },
      "execution_count": 17,
      "outputs": []
    },
    {
      "cell_type": "code",
      "source": [
        "y_train"
      ],
      "metadata": {
        "colab": {
          "base_uri": "https://localhost:8080/"
        },
        "id": "zmmESw519yxL",
        "outputId": "067f1103-6f2a-47ae-8fc0-800751ec7b17"
      },
      "execution_count": 18,
      "outputs": [
        {
          "output_type": "execute_result",
          "data": {
            "text/plain": [
              "423    180000\n",
              "223     56256\n",
              "431     32974\n",
              "24     115000\n",
              "549    160000\n",
              "        ...  \n",
              "427     49461\n",
              "418     63900\n",
              "525    177000\n",
              "320    132320\n",
              "167    250000\n",
              "Name: salary_in_usd, Length: 485, dtype: int64"
            ]
          },
          "metadata": {},
          "execution_count": 18
        }
      ]
    },
    {
      "cell_type": "code",
      "source": [
        "#seleccion de mejor algoritmo\n",
        "result = {}\n",
        "results1 = {}\n",
        "results2 = {}\n",
        "results3 = {}\n",
        "#Corremos los algoritmos con una funcion que permite seleccionar las metricas\n",
        "def algorit(result, modeling_1,modeling_2):\n",
        "  for model in [GradientBoostingRegressor(), XGBRegressor(), LGBMRegressor()]:\n",
        "    print(f'Start training {model.__class__.__name__}')\n",
        "\n",
        "    #randomsear\n",
        "    modeling = RandomizedSearchCV(model, params_global, cv=5, n_jobs=-1, refit=True, scoring= modeling_1, verbose=1, n_iter=30)\n",
        "\n",
        "    #entrenamiento\n",
        "    modeling.fit(X_train, y_train)\n",
        "\n",
        "    #seleccion del modelo con refit \n",
        "    best_model = modeling.best_estimator_\n",
        "\n",
        "    #metrica de test\n",
        "    metrics_test = modeling_2(y_test, best_model.predict(X_test))\n",
        "\n",
        "    #save results\n",
        "    result[best_model.__class__.__name__] = {'modelo': best_model,\n",
        "                                            'score_train': modeling.best_score_ * -1,\n",
        "                                            'score_test': metrics_test,\n",
        "                                            'params': modeling.best_params_}\n",
        "\n",
        "  print(f'Algoritmos con Metrica: \\n')\n",
        "  print(modeling_1 ) \n",
        "  print(f'Listos')\n",
        "    \n",
        "  \n",
        "\n"
      ],
      "metadata": {
        "id": "s-7i5v7eAz7o"
      },
      "execution_count": 19,
      "outputs": []
    },
    {
      "cell_type": "markdown",
      "source": [
        "A continuacion corro los algoritmos con las distintas metricas para comparar errores"
      ],
      "metadata": {
        "id": "d4DjP_XJCU8i"
      }
    },
    {
      "cell_type": "code",
      "source": [
        "algorit(results1,'neg_mean_absolute_error',mean_absolute_error)\n",
        "algorit(results2,'neg_mean_squared_error',mean_squared_error)\n",
        "algorit(results3,'neg_mean_absolute_percentage_error',mean_absolute_percentage_error)"
      ],
      "metadata": {
        "colab": {
          "base_uri": "https://localhost:8080/"
        },
        "id": "7e8N9yaP2F6S",
        "outputId": "e7874e7c-5469-4997-c93b-df6aa85078e6"
      },
      "execution_count": 20,
      "outputs": [
        {
          "output_type": "stream",
          "name": "stdout",
          "text": [
            "Start training GradientBoostingRegressor\n",
            "Fitting 5 folds for each of 30 candidates, totalling 150 fits\n",
            "Start training XGBRegressor\n",
            "Fitting 5 folds for each of 30 candidates, totalling 150 fits\n",
            "[12:03:45] WARNING: /workspace/src/objective/regression_obj.cu:152: reg:linear is now deprecated in favor of reg:squarederror.\n",
            "Start training LGBMRegressor\n",
            "Fitting 5 folds for each of 30 candidates, totalling 150 fits\n",
            "Algoritmos con Metrica: \n",
            "\n",
            "neg_mean_absolute_error\n",
            "Listos\n",
            "Start training GradientBoostingRegressor\n",
            "Fitting 5 folds for each of 30 candidates, totalling 150 fits\n",
            "Start training XGBRegressor\n",
            "Fitting 5 folds for each of 30 candidates, totalling 150 fits\n",
            "[12:04:12] WARNING: /workspace/src/objective/regression_obj.cu:152: reg:linear is now deprecated in favor of reg:squarederror.\n",
            "Start training LGBMRegressor\n",
            "Fitting 5 folds for each of 30 candidates, totalling 150 fits\n",
            "Algoritmos con Metrica: \n",
            "\n",
            "neg_mean_squared_error\n",
            "Listos\n",
            "Start training GradientBoostingRegressor\n",
            "Fitting 5 folds for each of 30 candidates, totalling 150 fits\n",
            "Start training XGBRegressor\n",
            "Fitting 5 folds for each of 30 candidates, totalling 150 fits\n",
            "[12:04:43] WARNING: /workspace/src/objective/regression_obj.cu:152: reg:linear is now deprecated in favor of reg:squarederror.\n",
            "Start training LGBMRegressor\n",
            "Fitting 5 folds for each of 30 candidates, totalling 150 fits\n",
            "Algoritmos con Metrica: \n",
            "\n",
            "neg_mean_absolute_percentage_error\n",
            "Listos\n"
          ]
        }
      ]
    },
    {
      "cell_type": "code",
      "source": [
        "#Metrica mean absolute error\n",
        "Final1 = pd.DataFrame.from_dict(results1, orient='index')\n",
        "Final1['error'] = abs(Final1['score_train']- Final1['score_test'])\n",
        "print(Final1[['score_train','score_test','error']].sort_values(by=['error']))\n",
        "#Metrica mean squared error\n",
        "Final2 = pd.DataFrame.from_dict(results2, orient='index')\n",
        "Final2['error'] = abs(Final2['score_train']- Final2['score_test'])\n",
        "print(Final2[['score_train','score_test','error']].sort_values(by=['error']))\n",
        "#Metrica mean absolute percentage error\n",
        "Final3 = pd.DataFrame.from_dict(results3, orient='index')\n",
        "Final3['error'] = abs(Final3['score_train']- Final3['score_test'])\n",
        "print(Final3[['score_train','score_test','error']].sort_values(by=['error']))"
      ],
      "metadata": {
        "colab": {
          "base_uri": "https://localhost:8080/"
        },
        "id": "kHV1jRPDBiua",
        "outputId": "b4f0d5d2-4a14-47d2-92d3-5b3341e27a63"
      },
      "execution_count": 21,
      "outputs": [
        {
          "output_type": "stream",
          "name": "stdout",
          "text": [
            "                            score_train    score_test         error\n",
            "GradientBoostingRegressor  47538.909256  59305.409649  11766.500393\n",
            "LGBMRegressor              47538.508320  59306.261688  11767.753368\n",
            "XGBRegressor               47538.507925  59306.261527  11767.753601\n",
            "                            score_train    score_test         error\n",
            "XGBRegressor               4.177513e+09  7.403693e+09  3.226180e+09\n",
            "LGBMRegressor              4.177513e+09  7.403693e+09  3.226180e+09\n",
            "GradientBoostingRegressor  4.177513e+09  7.403693e+09  3.226180e+09\n",
            "                           score_train  score_test     error\n",
            "GradientBoostingRegressor     1.049737    1.234968  0.185231\n",
            "LGBMRegressor                 1.049737    1.234968  0.185231\n",
            "XGBRegressor                  0.972079    1.158212  0.186134\n"
          ]
        }
      ]
    },
    {
      "cell_type": "markdown",
      "source": [
        "Lo que podemos observar es que con la metrica MAE (Mean Absolute Error) el error es menor utilizando el algoritmo LGBMRegressor.\n",
        "Para la metrica MSE (Mean Squared Error) el error es menor con el algoritmo XGBRegressor aunque el valor es totalmente desproporcionado y nada efectivo.\n",
        "Por ultimo, con la metrica MAPE (Mean Absolute Porcentage Error) el error es menor para el algoritmo LGBMRegresor.\n"
      ],
      "metadata": {
        "id": "hQQLGcs6Eelx"
      }
    },
    {
      "cell_type": "code",
      "source": [],
      "metadata": {
        "id": "FEQSzXFHGEbX"
      },
      "execution_count": null,
      "outputs": []
    },
    {
      "cell_type": "markdown",
      "source": [
        "#Hiperparámetros\n",
        "\n",
        "Trabajaremos con:\n",
        "\n",
        "- GridSearch\n",
        "- RandomSearch\n",
        "- Optimizacion Bayesiana\n",
        "\n"
      ],
      "metadata": {
        "id": "cZDF9-QJv2MH"
      }
    },
    {
      "cell_type": "markdown",
      "source": [
        "## Adquisicion de datos para entenar \n",
        "\n",
        "Solo vamos a tomar los datos , chequear los mismos para poder ver si se puede entrenar y splitearlos\n",
        "\n",
        "No vamos a encodear nada\n",
        "\n"
      ],
      "metadata": {
        "id": "rTH6NM6hwa38"
      }
    },
    {
      "cell_type": "code",
      "execution_count": 22,
      "metadata": {
        "id": "hYsYi412WWlB"
      },
      "outputs": [],
      "source": [
        "import time"
      ]
    },
    {
      "cell_type": "markdown",
      "source": [
        "### Data Adquisicion y chequeo\n",
        "\n",
        "Vamos a adquirir los datos y chequear que tenemos para luego perparar y dejarlisto el conjunto para los diferentes optimizaciones"
      ],
      "metadata": {
        "id": "p7Rgk7Ymwl6x"
      }
    },
    {
      "cell_type": "markdown",
      "source": [
        "Comentarios\n",
        "\n",
        "*\n"
      ],
      "metadata": {
        "id": "60fXuhI6zL2a"
      }
    },
    {
      "cell_type": "code",
      "source": [
        "#deciciones\n",
        "\n",
        "# sencillas para estudio \n",
        "\n",
        "#df.drop('weekday', axis=1, inplace=True)\n"
      ],
      "metadata": {
        "id": "qzOs9050YkGe"
      },
      "execution_count": null,
      "outputs": []
    },
    {
      "cell_type": "markdown",
      "source": [
        "### Spliteo de datos\n",
        "\n",
        "Luego que tengamos decidio que problemas tenemos en el datasets, emepzamos a splitear .  Primero sera con su target y luego en train y test"
      ],
      "metadata": {
        "id": "K7698cX8xZ-v"
      }
    },
    {
      "cell_type": "markdown",
      "source": [
        "### Entrenamiento de modelo\n",
        "\n",
        "Aqui vamos a poder primero entrenar un modelo basico en el mismo cojuntoy luego ver si podemos encontrar con los metodos de optimizacion alguno modelo del mismo algoritmo qpero con otros hiperparametros\n",
        "\n"
      ],
      "metadata": {
        "id": "kFoAKMILzCMP"
      }
    },
    {
      "cell_type": "code",
      "source": [
        "#carga de libreriasa usar\n",
        "from sklearn.ensemble import RandomForestRegressor\n",
        "from sklearn.metrics import mean_absolute_error, mean_absolute_percentage_error\n",
        "\n",
        "\n",
        "#todos los resultados los vamos a guardar para luego comparar al final\n",
        "results = {}\n",
        "\n",
        "#variables comunes\n",
        "semilla = 42\n",
        "seed_search_cv = 123\n",
        "cv = 3\n",
        "n_iter = 30"
      ],
      "metadata": {
        "id": "TSp_NUUeZPRc"
      },
      "execution_count": 24,
      "outputs": []
    },
    {
      "cell_type": "code",
      "source": [
        "RandomForestRegressor()"
      ],
      "metadata": {
        "id": "0rvSsbBw3Cdd",
        "colab": {
          "base_uri": "https://localhost:8080/"
        },
        "outputId": "fe7db151-ed23-4169-d233-a98400aac07b"
      },
      "execution_count": 25,
      "outputs": [
        {
          "output_type": "execute_result",
          "data": {
            "text/plain": [
              "RandomForestRegressor()"
            ]
          },
          "metadata": {},
          "execution_count": 25
        }
      ]
    },
    {
      "cell_type": "code",
      "source": [
        "#seleccion del modelo\n",
        "rf_basic = RandomForestRegressor(random_state = semilla)\n",
        "\n",
        "#tiempo que demora el entrenamiento basico\n",
        "start_time = time.time()\n",
        "#entenamiento\n",
        "rf_basic.fit(X_train, y_train)\n",
        "#finish time control\n",
        "end_time = time.time()\n"
      ],
      "metadata": {
        "id": "2Xk7IoDyzzZz"
      },
      "execution_count": 26,
      "outputs": []
    },
    {
      "cell_type": "code",
      "source": [
        "#Agrego los valores importantes que deseo comparar\n",
        "\n",
        "results['base'] = {'time': round(end_time-start_time, 5),\n",
        "                   'score_train': mean_absolute_error(y_train, rf_basic.predict(X_train)),\n",
        "                   'score_test': mean_absolute_error(y_test, rf_basic.predict(X_test)),\n",
        "                   'n_trainings': 1}\n",
        "\n",
        "results"
      ],
      "metadata": {
        "id": "LT6VbKuL0FG4",
        "colab": {
          "base_uri": "https://localhost:8080/"
        },
        "outputId": "dc2cf684-4468-4762-a887-a2da65499883"
      },
      "execution_count": 27,
      "outputs": [
        {
          "output_type": "execute_result",
          "data": {
            "text/plain": [
              "{'base': {'time': 0.13016,\n",
              "  'score_train': 46981.523146461455,\n",
              "  'score_test': 59970.48104531678,\n",
              "  'n_trainings': 1}}"
            ]
          },
          "metadata": {},
          "execution_count": 27
        }
      ]
    },
    {
      "cell_type": "markdown",
      "source": [
        "Dado estos valores vamos a chequear como performance con su CV dado que posiblemnte tenga overfitting"
      ],
      "metadata": {
        "id": "v0Pyq22M0p0T"
      }
    },
    {
      "cell_type": "code",
      "source": [
        "from sklearn.model_selection import cross_val_score\n",
        "\n",
        "scores = cross_val_score(rf_basic, X_train, y_train, scoring=\"neg_mean_absolute_error\")\n",
        "scores*-1"
      ],
      "metadata": {
        "id": "WuJx6TevbRZ4",
        "colab": {
          "base_uri": "https://localhost:8080/"
        },
        "outputId": "543813e7-4ffc-4b16-abe2-7c83a171e8e0"
      },
      "execution_count": 28,
      "outputs": [
        {
          "output_type": "execute_result",
          "data": {
            "text/plain": [
              "array([42626.36533306, 45238.21289794, 46563.05322204, 53995.96002211,\n",
              "       52607.40285865])"
            ]
          },
          "metadata": {},
          "execution_count": 28
        }
      ]
    },
    {
      "cell_type": "markdown",
      "source": [
        "Parece que tengo un poco de overfitting en todo el conjunto del entenamiento , pero cuando lo hago a nivel mas de a grupos se mantiene bien"
      ],
      "metadata": {
        "id": "qrwmYpwwdYrs"
      }
    },
    {
      "cell_type": "markdown",
      "source": [
        "###GridSearch\n",
        "\n",
        "Es el metodo mas comun a usar , donde es algo simple pero que tiene un trabajo mas forzoso.\n",
        "\n",
        "el motivo es porque no tiene un aprendizaje en su iteracion y que va a fuerza bruta , probando todo contra todo lo que se le de para probar\n",
        "\n",
        "Eso es mas costo para iterar , porque puede haber un monton de valores que se hace imposible . Ademas tenemos que tener la suerte de seleccionar los valores acordes para iterar , porque sino capaz nunca llega a una buena performance\n"
      ],
      "metadata": {
        "id": "o0BhOnuZdkXH"
      }
    },
    {
      "cell_type": "code",
      "source": [
        "RandomForestRegressor()"
      ],
      "metadata": {
        "id": "dDwDI-uW5LEn",
        "colab": {
          "base_uri": "https://localhost:8080/"
        },
        "outputId": "83a3c8d0-0705-4673-bfbf-845c08d68afd"
      },
      "execution_count": 29,
      "outputs": [
        {
          "output_type": "execute_result",
          "data": {
            "text/plain": [
              "RandomForestRegressor()"
            ]
          },
          "metadata": {},
          "execution_count": 29
        }
      ]
    },
    {
      "cell_type": "code",
      "source": [
        "#chargar libreria\n",
        "from sklearn.model_selection import GridSearchCV\n",
        "\n",
        "#seleccion de parametros y valores del mismo\n",
        "param_grid = {\n",
        "    \"max_features\": [ 0.5, 0.7, 1],\n",
        "    \"n_estimators\": [100, 300, 600, 800],\n",
        "    \"max_depth\": [ 4, 20,50, 100,] ,\n",
        "    \"min_samples_split\": [2,3,5,6]\n",
        "}\n",
        "\n",
        "# define gridsearch\n",
        "reg_grid = GridSearchCV(RandomForestRegressor(random_state=42), # modelo\n",
        "                        param_grid=param_grid, # grilla de combinaciones\n",
        "                        cv=cv, # numeros split CV \n",
        "                        n_jobs=-1, # paralelice en todos los hilos \n",
        "                        scoring='neg_mean_absolute_error', # indico la metrica a buscar\n",
        "                        verbose=3\n",
        "                       )\n",
        "\n",
        "start_time = time.time()\n",
        "#iteraccion \n",
        "model_grid = reg_grid.fit(X_train, y_train)\n",
        "\n",
        "end_time = time.time()"
      ],
      "metadata": {
        "id": "s2oZgcVDdme6",
        "colab": {
          "base_uri": "https://localhost:8080/"
        },
        "outputId": "f00a82ec-c44f-44d5-c763-74dd371d12aa"
      },
      "execution_count": 30,
      "outputs": [
        {
          "output_type": "stream",
          "name": "stdout",
          "text": [
            "Fitting 3 folds for each of 192 candidates, totalling 576 fits\n"
          ]
        }
      ]
    },
    {
      "cell_type": "code",
      "source": [
        "#fill new table\n",
        "results['grid'] = {'time': round(end_time-start_time, 5), \n",
        "                   \n",
        "                   'score_train': max(pd.DataFrame(model_grid.cv_results_)['mean_test_score'])*-1, \n",
        "                   \n",
        "                   'score_test':mean_absolute_error(y_test, model_grid.predict(X_test)) , \n",
        "\n",
        "                   'n_trainings': pd.DataFrame(model_grid.cv_results_).shape[0] * cv}"
      ],
      "metadata": {
        "id": "5tY9VfWMm8BF"
      },
      "execution_count": 31,
      "outputs": []
    },
    {
      "cell_type": "code",
      "source": [
        "results"
      ],
      "metadata": {
        "colab": {
          "base_uri": "https://localhost:8080/"
        },
        "id": "1SMD6-_06dwM",
        "outputId": "d24e0eb1-c3b8-46d5-d6ca-ead5e9b1fb65"
      },
      "execution_count": 32,
      "outputs": [
        {
          "output_type": "execute_result",
          "data": {
            "text/plain": [
              "{'base': {'time': 0.13016,\n",
              "  'score_train': 46981.523146461455,\n",
              "  'score_test': 59970.48104531678,\n",
              "  'n_trainings': 1},\n",
              " 'grid': {'time': 279.40389,\n",
              "  'score_train': 47718.24636863908,\n",
              "  'score_test': 60140.50945441396,\n",
              "  'n_trainings': 576}}"
            ]
          },
          "metadata": {},
          "execution_count": 32
        }
      ]
    },
    {
      "cell_type": "code",
      "source": [
        "model_grid.best_params_"
      ],
      "metadata": {
        "id": "tx-S48FcfVB1",
        "colab": {
          "base_uri": "https://localhost:8080/"
        },
        "outputId": "ca6f1298-2816-4b66-b32f-84c47ac9c8f5"
      },
      "execution_count": 33,
      "outputs": [
        {
          "output_type": "execute_result",
          "data": {
            "text/plain": [
              "{'max_depth': 4,\n",
              " 'max_features': 0.5,\n",
              " 'min_samples_split': 2,\n",
              " 'n_estimators': 800}"
            ]
          },
          "metadata": {},
          "execution_count": 33
        }
      ]
    },
    {
      "cell_type": "code",
      "source": [
        "pd.DataFrame(model_grid.cv_results_).sort_values('rank_test_score').head()"
      ],
      "metadata": {
        "colab": {
          "base_uri": "https://localhost:8080/",
          "height": 565
        },
        "id": "YNKQESzY7EJU",
        "outputId": "7633f425-bc58-4a85-c046-a1607df3f528"
      },
      "execution_count": 34,
      "outputs": [
        {
          "output_type": "execute_result",
          "data": {
            "text/plain": [
              "     mean_fit_time  std_fit_time  mean_score_time  std_score_time  \\\n",
              "95        1.519509      0.011539         0.117218        0.002542   \n",
              "107       1.509205      0.004672         0.117874        0.001780   \n",
              "103       1.512073      0.015636         0.117927        0.001961   \n",
              "99        1.532695      0.025580         0.127988        0.010831   \n",
              "91        1.537492      0.016667         0.121991        0.006446   \n",
              "\n",
              "    param_max_depth param_max_features param_min_samples_split  \\\n",
              "95               20                  1                       6   \n",
              "107              50                0.5                       5   \n",
              "103              50                0.5                       3   \n",
              "99               50                0.5                       2   \n",
              "91               20                  1                       5   \n",
              "\n",
              "    param_n_estimators                                             params  \\\n",
              "95                 800  {'max_depth': 20, 'max_features': 1, 'min_samp...   \n",
              "107                800  {'max_depth': 50, 'max_features': 0.5, 'min_sa...   \n",
              "103                800  {'max_depth': 50, 'max_features': 0.5, 'min_sa...   \n",
              "99                 800  {'max_depth': 50, 'max_features': 0.5, 'min_sa...   \n",
              "91                 800  {'max_depth': 20, 'max_features': 1, 'min_samp...   \n",
              "\n",
              "     split0_test_score  split1_test_score  split2_test_score  mean_test_score  \\\n",
              "95       -43606.788801      -48796.769114      -50751.181191    -47718.246369   \n",
              "107      -43606.788801      -48796.769114      -50751.181191    -47718.246369   \n",
              "103      -43606.788801      -48796.769114      -50751.181191    -47718.246369   \n",
              "99       -43606.788801      -48796.769114      -50751.181191    -47718.246369   \n",
              "91       -43606.788801      -48796.769114      -50751.181191    -47718.246369   \n",
              "\n",
              "     std_test_score  rank_test_score  \n",
              "95      3014.740911                1  \n",
              "107     3014.740911                1  \n",
              "103     3014.740911                1  \n",
              "99      3014.740911                1  \n",
              "91      3014.740911                1  "
            ],
            "text/html": [
              "\n",
              "  <div id=\"df-33d50e55-d9e2-40f3-9814-12cc26d4249b\">\n",
              "    <div class=\"colab-df-container\">\n",
              "      <div>\n",
              "<style scoped>\n",
              "    .dataframe tbody tr th:only-of-type {\n",
              "        vertical-align: middle;\n",
              "    }\n",
              "\n",
              "    .dataframe tbody tr th {\n",
              "        vertical-align: top;\n",
              "    }\n",
              "\n",
              "    .dataframe thead th {\n",
              "        text-align: right;\n",
              "    }\n",
              "</style>\n",
              "<table border=\"1\" class=\"dataframe\">\n",
              "  <thead>\n",
              "    <tr style=\"text-align: right;\">\n",
              "      <th></th>\n",
              "      <th>mean_fit_time</th>\n",
              "      <th>std_fit_time</th>\n",
              "      <th>mean_score_time</th>\n",
              "      <th>std_score_time</th>\n",
              "      <th>param_max_depth</th>\n",
              "      <th>param_max_features</th>\n",
              "      <th>param_min_samples_split</th>\n",
              "      <th>param_n_estimators</th>\n",
              "      <th>params</th>\n",
              "      <th>split0_test_score</th>\n",
              "      <th>split1_test_score</th>\n",
              "      <th>split2_test_score</th>\n",
              "      <th>mean_test_score</th>\n",
              "      <th>std_test_score</th>\n",
              "      <th>rank_test_score</th>\n",
              "    </tr>\n",
              "  </thead>\n",
              "  <tbody>\n",
              "    <tr>\n",
              "      <th>95</th>\n",
              "      <td>1.519509</td>\n",
              "      <td>0.011539</td>\n",
              "      <td>0.117218</td>\n",
              "      <td>0.002542</td>\n",
              "      <td>20</td>\n",
              "      <td>1</td>\n",
              "      <td>6</td>\n",
              "      <td>800</td>\n",
              "      <td>{'max_depth': 20, 'max_features': 1, 'min_samp...</td>\n",
              "      <td>-43606.788801</td>\n",
              "      <td>-48796.769114</td>\n",
              "      <td>-50751.181191</td>\n",
              "      <td>-47718.246369</td>\n",
              "      <td>3014.740911</td>\n",
              "      <td>1</td>\n",
              "    </tr>\n",
              "    <tr>\n",
              "      <th>107</th>\n",
              "      <td>1.509205</td>\n",
              "      <td>0.004672</td>\n",
              "      <td>0.117874</td>\n",
              "      <td>0.001780</td>\n",
              "      <td>50</td>\n",
              "      <td>0.5</td>\n",
              "      <td>5</td>\n",
              "      <td>800</td>\n",
              "      <td>{'max_depth': 50, 'max_features': 0.5, 'min_sa...</td>\n",
              "      <td>-43606.788801</td>\n",
              "      <td>-48796.769114</td>\n",
              "      <td>-50751.181191</td>\n",
              "      <td>-47718.246369</td>\n",
              "      <td>3014.740911</td>\n",
              "      <td>1</td>\n",
              "    </tr>\n",
              "    <tr>\n",
              "      <th>103</th>\n",
              "      <td>1.512073</td>\n",
              "      <td>0.015636</td>\n",
              "      <td>0.117927</td>\n",
              "      <td>0.001961</td>\n",
              "      <td>50</td>\n",
              "      <td>0.5</td>\n",
              "      <td>3</td>\n",
              "      <td>800</td>\n",
              "      <td>{'max_depth': 50, 'max_features': 0.5, 'min_sa...</td>\n",
              "      <td>-43606.788801</td>\n",
              "      <td>-48796.769114</td>\n",
              "      <td>-50751.181191</td>\n",
              "      <td>-47718.246369</td>\n",
              "      <td>3014.740911</td>\n",
              "      <td>1</td>\n",
              "    </tr>\n",
              "    <tr>\n",
              "      <th>99</th>\n",
              "      <td>1.532695</td>\n",
              "      <td>0.025580</td>\n",
              "      <td>0.127988</td>\n",
              "      <td>0.010831</td>\n",
              "      <td>50</td>\n",
              "      <td>0.5</td>\n",
              "      <td>2</td>\n",
              "      <td>800</td>\n",
              "      <td>{'max_depth': 50, 'max_features': 0.5, 'min_sa...</td>\n",
              "      <td>-43606.788801</td>\n",
              "      <td>-48796.769114</td>\n",
              "      <td>-50751.181191</td>\n",
              "      <td>-47718.246369</td>\n",
              "      <td>3014.740911</td>\n",
              "      <td>1</td>\n",
              "    </tr>\n",
              "    <tr>\n",
              "      <th>91</th>\n",
              "      <td>1.537492</td>\n",
              "      <td>0.016667</td>\n",
              "      <td>0.121991</td>\n",
              "      <td>0.006446</td>\n",
              "      <td>20</td>\n",
              "      <td>1</td>\n",
              "      <td>5</td>\n",
              "      <td>800</td>\n",
              "      <td>{'max_depth': 20, 'max_features': 1, 'min_samp...</td>\n",
              "      <td>-43606.788801</td>\n",
              "      <td>-48796.769114</td>\n",
              "      <td>-50751.181191</td>\n",
              "      <td>-47718.246369</td>\n",
              "      <td>3014.740911</td>\n",
              "      <td>1</td>\n",
              "    </tr>\n",
              "  </tbody>\n",
              "</table>\n",
              "</div>\n",
              "      <button class=\"colab-df-convert\" onclick=\"convertToInteractive('df-33d50e55-d9e2-40f3-9814-12cc26d4249b')\"\n",
              "              title=\"Convert this dataframe to an interactive table.\"\n",
              "              style=\"display:none;\">\n",
              "        \n",
              "  <svg xmlns=\"http://www.w3.org/2000/svg\" height=\"24px\"viewBox=\"0 0 24 24\"\n",
              "       width=\"24px\">\n",
              "    <path d=\"M0 0h24v24H0V0z\" fill=\"none\"/>\n",
              "    <path d=\"M18.56 5.44l.94 2.06.94-2.06 2.06-.94-2.06-.94-.94-2.06-.94 2.06-2.06.94zm-11 1L8.5 8.5l.94-2.06 2.06-.94-2.06-.94L8.5 2.5l-.94 2.06-2.06.94zm10 10l.94 2.06.94-2.06 2.06-.94-2.06-.94-.94-2.06-.94 2.06-2.06.94z\"/><path d=\"M17.41 7.96l-1.37-1.37c-.4-.4-.92-.59-1.43-.59-.52 0-1.04.2-1.43.59L10.3 9.45l-7.72 7.72c-.78.78-.78 2.05 0 2.83L4 21.41c.39.39.9.59 1.41.59.51 0 1.02-.2 1.41-.59l7.78-7.78 2.81-2.81c.8-.78.8-2.07 0-2.86zM5.41 20L4 18.59l7.72-7.72 1.47 1.35L5.41 20z\"/>\n",
              "  </svg>\n",
              "      </button>\n",
              "      \n",
              "  <style>\n",
              "    .colab-df-container {\n",
              "      display:flex;\n",
              "      flex-wrap:wrap;\n",
              "      gap: 12px;\n",
              "    }\n",
              "\n",
              "    .colab-df-convert {\n",
              "      background-color: #E8F0FE;\n",
              "      border: none;\n",
              "      border-radius: 50%;\n",
              "      cursor: pointer;\n",
              "      display: none;\n",
              "      fill: #1967D2;\n",
              "      height: 32px;\n",
              "      padding: 0 0 0 0;\n",
              "      width: 32px;\n",
              "    }\n",
              "\n",
              "    .colab-df-convert:hover {\n",
              "      background-color: #E2EBFA;\n",
              "      box-shadow: 0px 1px 2px rgba(60, 64, 67, 0.3), 0px 1px 3px 1px rgba(60, 64, 67, 0.15);\n",
              "      fill: #174EA6;\n",
              "    }\n",
              "\n",
              "    [theme=dark] .colab-df-convert {\n",
              "      background-color: #3B4455;\n",
              "      fill: #D2E3FC;\n",
              "    }\n",
              "\n",
              "    [theme=dark] .colab-df-convert:hover {\n",
              "      background-color: #434B5C;\n",
              "      box-shadow: 0px 1px 3px 1px rgba(0, 0, 0, 0.15);\n",
              "      filter: drop-shadow(0px 1px 2px rgba(0, 0, 0, 0.3));\n",
              "      fill: #FFFFFF;\n",
              "    }\n",
              "  </style>\n",
              "\n",
              "      <script>\n",
              "        const buttonEl =\n",
              "          document.querySelector('#df-33d50e55-d9e2-40f3-9814-12cc26d4249b button.colab-df-convert');\n",
              "        buttonEl.style.display =\n",
              "          google.colab.kernel.accessAllowed ? 'block' : 'none';\n",
              "\n",
              "        async function convertToInteractive(key) {\n",
              "          const element = document.querySelector('#df-33d50e55-d9e2-40f3-9814-12cc26d4249b');\n",
              "          const dataTable =\n",
              "            await google.colab.kernel.invokeFunction('convertToInteractive',\n",
              "                                                     [key], {});\n",
              "          if (!dataTable) return;\n",
              "\n",
              "          const docLinkHtml = 'Like what you see? Visit the ' +\n",
              "            '<a target=\"_blank\" href=https://colab.research.google.com/notebooks/data_table.ipynb>data table notebook</a>'\n",
              "            + ' to learn more about interactive tables.';\n",
              "          element.innerHTML = '';\n",
              "          dataTable['output_type'] = 'display_data';\n",
              "          await google.colab.output.renderOutput(dataTable, element);\n",
              "          const docLink = document.createElement('div');\n",
              "          docLink.innerHTML = docLinkHtml;\n",
              "          element.appendChild(docLink);\n",
              "        }\n",
              "      </script>\n",
              "    </div>\n",
              "  </div>\n",
              "  "
            ]
          },
          "metadata": {},
          "execution_count": 34
        }
      ]
    },
    {
      "cell_type": "markdown",
      "source": [
        "###RandomSearch\n",
        "\n",
        "Este metodo es diferente al anterior en un solo caso,\n",
        "\n",
        "Que no debe iterar sobre todo el conjunto de parametros a correr, solo que lo hace con valores aleatorios del mismo\n",
        "\n",
        "Quiere decir que podemos no ser tan exacto para seleccionar posible valores y sobre ese rango elegira un valor al azar\n",
        "\n",
        "Metodo mas rapido para correr, se dice que con 30 iteracciones aproximadamente va a encontrar un modelo bueno\n",
        "\n",
        "Aunque como esuna posibilidad existe que le modelo sea una performance peor"
      ],
      "metadata": {
        "id": "pboX7uM2dicv"
      }
    },
    {
      "cell_type": "code",
      "source": [
        "from scipy.stats import randint\n",
        "\n",
        "a = randint(4, 100) \n"
      ],
      "metadata": {
        "id": "1bJk0y_dBXn7"
      },
      "execution_count": 35,
      "outputs": []
    },
    {
      "cell_type": "code",
      "source": [],
      "metadata": {
        "colab": {
          "base_uri": "https://localhost:8080/"
        },
        "id": "9akkU3reBcKf",
        "outputId": "f666ec4e-f41a-4d3b-9769-6bd8d160927c"
      },
      "execution_count": null,
      "outputs": [
        {
          "output_type": "execute_result",
          "data": {
            "text/plain": [
              "51.5"
            ]
          },
          "metadata": {},
          "execution_count": 29
        }
      ]
    },
    {
      "cell_type": "code",
      "source": [
        "#library\n",
        "from sklearn.model_selection import RandomizedSearchCV\n",
        "from scipy.stats import randint\n",
        "\n",
        "\n",
        "\n",
        "#seleccion de varaibles y parametros\n",
        "param_grid_random = {\n",
        "    \"max_features\": [0.3, 0.5, 0.7, 1],\n",
        "    \"n_estimators\": randint(100,1000),\n",
        "    \"max_depth\": randint(4, 100) \n",
        "}\n",
        "\n",
        "# Random\n",
        "reg_rand = RandomizedSearchCV(RandomForestRegressor(random_state=42), # seleccion modelo\n",
        "                         param_distributions=param_grid_random, # le doy los parametros\n",
        "                         n_iter=n_iter, # las veces que voy a probar seleccionar los parametros ,  cantidad de entrenamientos\n",
        "                         cv=cv, # split de crossvalidation\n",
        "                         n_jobs=-1,\n",
        "                         scoring='neg_mean_absolute_error',\n",
        "                         random_state=123)\n",
        "start_time = time.time()\n",
        "\n",
        "model_rand = reg_rand.fit(X_train, y_train)\n",
        "\n",
        "end_time = time.time()"
      ],
      "metadata": {
        "id": "fBoHMci5dg0V"
      },
      "execution_count": 36,
      "outputs": []
    },
    {
      "cell_type": "code",
      "source": [
        "#fill new table\n",
        "results['random'] = {'time': round(end_time-start_time, 5), \n",
        "                   'score_train': max(pd.DataFrame(model_rand.cv_results_)['mean_test_score'])*-1, \n",
        "                   'score_test':mean_absolute_error(y_test, model_rand.predict(X_test)) , \n",
        "                   'n_trainings': pd.DataFrame(model_rand.cv_results_).shape[0] * 3}"
      ],
      "metadata": {
        "id": "a5odjexZkKNB"
      },
      "execution_count": 37,
      "outputs": []
    },
    {
      "cell_type": "code",
      "source": [
        "results"
      ],
      "metadata": {
        "colab": {
          "base_uri": "https://localhost:8080/"
        },
        "id": "etJ5v7UYCcc_",
        "outputId": "cff51814-496d-4954-cef3-b83a93ff5669"
      },
      "execution_count": 38,
      "outputs": [
        {
          "output_type": "execute_result",
          "data": {
            "text/plain": [
              "{'base': {'time': 0.13016,\n",
              "  'score_train': 46981.523146461455,\n",
              "  'score_test': 59970.48104531678,\n",
              "  'n_trainings': 1},\n",
              " 'grid': {'time': 279.40389,\n",
              "  'score_train': 47718.24636863908,\n",
              "  'score_test': 60140.50945441396,\n",
              "  'n_trainings': 576},\n",
              " 'random': {'time': 64.78014,\n",
              "  'score_train': 47699.07546602988,\n",
              "  'score_test': 60130.008302017006,\n",
              "  'n_trainings': 90}}"
            ]
          },
          "metadata": {},
          "execution_count": 38
        }
      ]
    },
    {
      "cell_type": "code",
      "source": [
        "model_rand.best_params_"
      ],
      "metadata": {
        "id": "t8Pf9SIX3Qbo",
        "colab": {
          "base_uri": "https://localhost:8080/"
        },
        "outputId": "0cb2561c-494e-46c7-a197-9367f83273f5"
      },
      "execution_count": 39,
      "outputs": [
        {
          "output_type": "execute_result",
          "data": {
            "text/plain": [
              "{'max_depth': 5, 'max_features': 1, 'n_estimators': 985}"
            ]
          },
          "metadata": {},
          "execution_count": 39
        }
      ]
    },
    {
      "cell_type": "code",
      "source": [
        "pd.DataFrame(model_rand.cv_results_).head()"
      ],
      "metadata": {
        "colab": {
          "base_uri": "https://localhost:8080/",
          "height": 531
        },
        "id": "eAhxQicvCy0m",
        "outputId": "21453608-d720-45f8-eb85-fa64be8e840b"
      },
      "execution_count": 40,
      "outputs": [
        {
          "output_type": "execute_result",
          "data": {
            "text/plain": [
              "   mean_fit_time  std_fit_time  mean_score_time  std_score_time  \\\n",
              "0       0.381139      0.004609         0.032656        0.000603   \n",
              "1       0.401526      0.010865         0.031156        0.000244   \n",
              "2       1.664179      0.071733         0.142400        0.019097   \n",
              "3       1.722801      0.513205         0.124766        0.025835   \n",
              "4       0.668641      0.149786         0.080927        0.021111   \n",
              "\n",
              "  param_max_depth param_max_features param_n_estimators  \\\n",
              "0              70                0.3                198   \n",
              "1              21                  1                206   \n",
              "2              61                0.7                837   \n",
              "3              51                0.5                644   \n",
              "4              50                0.3                211   \n",
              "\n",
              "                                              params  split0_test_score  \\\n",
              "0  {'max_depth': 70, 'max_features': 0.3, 'n_esti...      -43610.107856   \n",
              "1  {'max_depth': 21, 'max_features': 1, 'n_estima...      -43604.057154   \n",
              "2  {'max_depth': 61, 'max_features': 0.7, 'n_esti...      -43597.666532   \n",
              "3  {'max_depth': 51, 'max_features': 0.5, 'n_esti...      -43604.355796   \n",
              "4  {'max_depth': 50, 'max_features': 0.3, 'n_esti...      -43638.219939   \n",
              "\n",
              "   split1_test_score  split2_test_score  mean_test_score  std_test_score  \\\n",
              "0      -48825.644453      -50813.378690    -47749.710333     3037.543234   \n",
              "1      -48835.542680      -50824.608250    -47754.736028     3045.236367   \n",
              "2      -48783.813685      -50743.051364    -47708.177194     3014.617333   \n",
              "3      -48851.748869      -50763.089845    -47739.731503     3026.472673   \n",
              "4      -48843.876594      -50821.655029    -47767.917187     3029.708612   \n",
              "\n",
              "   rank_test_score  \n",
              "0               13  \n",
              "1               16  \n",
              "2                6  \n",
              "3               12  \n",
              "4               21  "
            ],
            "text/html": [
              "\n",
              "  <div id=\"df-3a0f01f0-311e-49e6-9537-1652cb805ebb\">\n",
              "    <div class=\"colab-df-container\">\n",
              "      <div>\n",
              "<style scoped>\n",
              "    .dataframe tbody tr th:only-of-type {\n",
              "        vertical-align: middle;\n",
              "    }\n",
              "\n",
              "    .dataframe tbody tr th {\n",
              "        vertical-align: top;\n",
              "    }\n",
              "\n",
              "    .dataframe thead th {\n",
              "        text-align: right;\n",
              "    }\n",
              "</style>\n",
              "<table border=\"1\" class=\"dataframe\">\n",
              "  <thead>\n",
              "    <tr style=\"text-align: right;\">\n",
              "      <th></th>\n",
              "      <th>mean_fit_time</th>\n",
              "      <th>std_fit_time</th>\n",
              "      <th>mean_score_time</th>\n",
              "      <th>std_score_time</th>\n",
              "      <th>param_max_depth</th>\n",
              "      <th>param_max_features</th>\n",
              "      <th>param_n_estimators</th>\n",
              "      <th>params</th>\n",
              "      <th>split0_test_score</th>\n",
              "      <th>split1_test_score</th>\n",
              "      <th>split2_test_score</th>\n",
              "      <th>mean_test_score</th>\n",
              "      <th>std_test_score</th>\n",
              "      <th>rank_test_score</th>\n",
              "    </tr>\n",
              "  </thead>\n",
              "  <tbody>\n",
              "    <tr>\n",
              "      <th>0</th>\n",
              "      <td>0.381139</td>\n",
              "      <td>0.004609</td>\n",
              "      <td>0.032656</td>\n",
              "      <td>0.000603</td>\n",
              "      <td>70</td>\n",
              "      <td>0.3</td>\n",
              "      <td>198</td>\n",
              "      <td>{'max_depth': 70, 'max_features': 0.3, 'n_esti...</td>\n",
              "      <td>-43610.107856</td>\n",
              "      <td>-48825.644453</td>\n",
              "      <td>-50813.378690</td>\n",
              "      <td>-47749.710333</td>\n",
              "      <td>3037.543234</td>\n",
              "      <td>13</td>\n",
              "    </tr>\n",
              "    <tr>\n",
              "      <th>1</th>\n",
              "      <td>0.401526</td>\n",
              "      <td>0.010865</td>\n",
              "      <td>0.031156</td>\n",
              "      <td>0.000244</td>\n",
              "      <td>21</td>\n",
              "      <td>1</td>\n",
              "      <td>206</td>\n",
              "      <td>{'max_depth': 21, 'max_features': 1, 'n_estima...</td>\n",
              "      <td>-43604.057154</td>\n",
              "      <td>-48835.542680</td>\n",
              "      <td>-50824.608250</td>\n",
              "      <td>-47754.736028</td>\n",
              "      <td>3045.236367</td>\n",
              "      <td>16</td>\n",
              "    </tr>\n",
              "    <tr>\n",
              "      <th>2</th>\n",
              "      <td>1.664179</td>\n",
              "      <td>0.071733</td>\n",
              "      <td>0.142400</td>\n",
              "      <td>0.019097</td>\n",
              "      <td>61</td>\n",
              "      <td>0.7</td>\n",
              "      <td>837</td>\n",
              "      <td>{'max_depth': 61, 'max_features': 0.7, 'n_esti...</td>\n",
              "      <td>-43597.666532</td>\n",
              "      <td>-48783.813685</td>\n",
              "      <td>-50743.051364</td>\n",
              "      <td>-47708.177194</td>\n",
              "      <td>3014.617333</td>\n",
              "      <td>6</td>\n",
              "    </tr>\n",
              "    <tr>\n",
              "      <th>3</th>\n",
              "      <td>1.722801</td>\n",
              "      <td>0.513205</td>\n",
              "      <td>0.124766</td>\n",
              "      <td>0.025835</td>\n",
              "      <td>51</td>\n",
              "      <td>0.5</td>\n",
              "      <td>644</td>\n",
              "      <td>{'max_depth': 51, 'max_features': 0.5, 'n_esti...</td>\n",
              "      <td>-43604.355796</td>\n",
              "      <td>-48851.748869</td>\n",
              "      <td>-50763.089845</td>\n",
              "      <td>-47739.731503</td>\n",
              "      <td>3026.472673</td>\n",
              "      <td>12</td>\n",
              "    </tr>\n",
              "    <tr>\n",
              "      <th>4</th>\n",
              "      <td>0.668641</td>\n",
              "      <td>0.149786</td>\n",
              "      <td>0.080927</td>\n",
              "      <td>0.021111</td>\n",
              "      <td>50</td>\n",
              "      <td>0.3</td>\n",
              "      <td>211</td>\n",
              "      <td>{'max_depth': 50, 'max_features': 0.3, 'n_esti...</td>\n",
              "      <td>-43638.219939</td>\n",
              "      <td>-48843.876594</td>\n",
              "      <td>-50821.655029</td>\n",
              "      <td>-47767.917187</td>\n",
              "      <td>3029.708612</td>\n",
              "      <td>21</td>\n",
              "    </tr>\n",
              "  </tbody>\n",
              "</table>\n",
              "</div>\n",
              "      <button class=\"colab-df-convert\" onclick=\"convertToInteractive('df-3a0f01f0-311e-49e6-9537-1652cb805ebb')\"\n",
              "              title=\"Convert this dataframe to an interactive table.\"\n",
              "              style=\"display:none;\">\n",
              "        \n",
              "  <svg xmlns=\"http://www.w3.org/2000/svg\" height=\"24px\"viewBox=\"0 0 24 24\"\n",
              "       width=\"24px\">\n",
              "    <path d=\"M0 0h24v24H0V0z\" fill=\"none\"/>\n",
              "    <path d=\"M18.56 5.44l.94 2.06.94-2.06 2.06-.94-2.06-.94-.94-2.06-.94 2.06-2.06.94zm-11 1L8.5 8.5l.94-2.06 2.06-.94-2.06-.94L8.5 2.5l-.94 2.06-2.06.94zm10 10l.94 2.06.94-2.06 2.06-.94-2.06-.94-.94-2.06-.94 2.06-2.06.94z\"/><path d=\"M17.41 7.96l-1.37-1.37c-.4-.4-.92-.59-1.43-.59-.52 0-1.04.2-1.43.59L10.3 9.45l-7.72 7.72c-.78.78-.78 2.05 0 2.83L4 21.41c.39.39.9.59 1.41.59.51 0 1.02-.2 1.41-.59l7.78-7.78 2.81-2.81c.8-.78.8-2.07 0-2.86zM5.41 20L4 18.59l7.72-7.72 1.47 1.35L5.41 20z\"/>\n",
              "  </svg>\n",
              "      </button>\n",
              "      \n",
              "  <style>\n",
              "    .colab-df-container {\n",
              "      display:flex;\n",
              "      flex-wrap:wrap;\n",
              "      gap: 12px;\n",
              "    }\n",
              "\n",
              "    .colab-df-convert {\n",
              "      background-color: #E8F0FE;\n",
              "      border: none;\n",
              "      border-radius: 50%;\n",
              "      cursor: pointer;\n",
              "      display: none;\n",
              "      fill: #1967D2;\n",
              "      height: 32px;\n",
              "      padding: 0 0 0 0;\n",
              "      width: 32px;\n",
              "    }\n",
              "\n",
              "    .colab-df-convert:hover {\n",
              "      background-color: #E2EBFA;\n",
              "      box-shadow: 0px 1px 2px rgba(60, 64, 67, 0.3), 0px 1px 3px 1px rgba(60, 64, 67, 0.15);\n",
              "      fill: #174EA6;\n",
              "    }\n",
              "\n",
              "    [theme=dark] .colab-df-convert {\n",
              "      background-color: #3B4455;\n",
              "      fill: #D2E3FC;\n",
              "    }\n",
              "\n",
              "    [theme=dark] .colab-df-convert:hover {\n",
              "      background-color: #434B5C;\n",
              "      box-shadow: 0px 1px 3px 1px rgba(0, 0, 0, 0.15);\n",
              "      filter: drop-shadow(0px 1px 2px rgba(0, 0, 0, 0.3));\n",
              "      fill: #FFFFFF;\n",
              "    }\n",
              "  </style>\n",
              "\n",
              "      <script>\n",
              "        const buttonEl =\n",
              "          document.querySelector('#df-3a0f01f0-311e-49e6-9537-1652cb805ebb button.colab-df-convert');\n",
              "        buttonEl.style.display =\n",
              "          google.colab.kernel.accessAllowed ? 'block' : 'none';\n",
              "\n",
              "        async function convertToInteractive(key) {\n",
              "          const element = document.querySelector('#df-3a0f01f0-311e-49e6-9537-1652cb805ebb');\n",
              "          const dataTable =\n",
              "            await google.colab.kernel.invokeFunction('convertToInteractive',\n",
              "                                                     [key], {});\n",
              "          if (!dataTable) return;\n",
              "\n",
              "          const docLinkHtml = 'Like what you see? Visit the ' +\n",
              "            '<a target=\"_blank\" href=https://colab.research.google.com/notebooks/data_table.ipynb>data table notebook</a>'\n",
              "            + ' to learn more about interactive tables.';\n",
              "          element.innerHTML = '';\n",
              "          dataTable['output_type'] = 'display_data';\n",
              "          await google.colab.output.renderOutput(dataTable, element);\n",
              "          const docLink = document.createElement('div');\n",
              "          docLink.innerHTML = docLinkHtml;\n",
              "          element.appendChild(docLink);\n",
              "        }\n",
              "      </script>\n",
              "    </div>\n",
              "  </div>\n",
              "  "
            ]
          },
          "metadata": {},
          "execution_count": 40
        }
      ]
    },
    {
      "cell_type": "markdown",
      "source": [
        "Bayesiana optimizacion\n",
        "\n",
        "Este metodo tambiene tiene una iteraccion , pero lo imporatnte es que mucho mas inteligente en seleccionar los hiperparametros.\n",
        "\n",
        "Lo que se quiere decir es que por cada iteraccion se va a comprobar contra su score y realizar un probabilidad bayesiana entre el hiperparametros y el score y en base a ello seleccionara otro valor \n",
        "\n",
        "P (A | B) = (P(B | A) * P(A))  / P(B)\n",
        "\n",
        "A = Score\n",
        "B = Hyperparametros\n",
        "\n",
        "\n",
        "Entonces por lo cual la optimizacion bayesiana converge mas rapido a unos hiperparametros optimos. \n",
        "Lo malo es que en cada iteraccion , como hace mas calculos demora un poco mas\n"
      ],
      "metadata": {
        "id": "VAhTtNCDoIBV"
      }
    },
    {
      "cell_type": "code",
      "source": [
        "!pip install git+https://github.com/scikit-optimize/scikit-optimize.git"
      ],
      "metadata": {
        "id": "cFGSCWpsojqI",
        "colab": {
          "base_uri": "https://localhost:8080/"
        },
        "outputId": "f463f805-a92f-4432-d152-44899897f5cd"
      },
      "execution_count": 41,
      "outputs": [
        {
          "output_type": "stream",
          "name": "stdout",
          "text": [
            "Looking in indexes: https://pypi.org/simple, https://us-python.pkg.dev/colab-wheels/public/simple/\n",
            "Collecting git+https://github.com/scikit-optimize/scikit-optimize.git\n",
            "  Cloning https://github.com/scikit-optimize/scikit-optimize.git to /tmp/pip-req-build-ghc9ane9\n",
            "  Running command git clone -q https://github.com/scikit-optimize/scikit-optimize.git /tmp/pip-req-build-ghc9ane9\n",
            "  Installing build dependencies ... \u001b[?25l\u001b[?25hdone\n",
            "  Getting requirements to build wheel ... \u001b[?25l\u001b[?25hdone\n",
            "    Preparing wheel metadata ... \u001b[?25l\u001b[?25hdone\n",
            "Requirement already satisfied: numpy>=1.13.3 in /usr/local/lib/python3.7/dist-packages (from scikit-optimize==0.9.0) (1.21.6)\n",
            "Requirement already satisfied: joblib>=0.11 in /usr/local/lib/python3.7/dist-packages (from scikit-optimize==0.9.0) (1.1.0)\n",
            "Requirement already satisfied: scipy>=0.19.1 in /usr/local/lib/python3.7/dist-packages (from scikit-optimize==0.9.0) (1.7.3)\n",
            "Requirement already satisfied: scikit-learn>=0.20.0 in /usr/local/lib/python3.7/dist-packages (from scikit-optimize==0.9.0) (1.0.2)\n",
            "Collecting pyaml>=16.9\n",
            "  Using cached pyaml-21.10.1-py2.py3-none-any.whl (24 kB)\n",
            "Requirement already satisfied: PyYAML in /usr/local/lib/python3.7/dist-packages (from pyaml>=16.9->scikit-optimize==0.9.0) (6.0)\n",
            "Requirement already satisfied: threadpoolctl>=2.0.0 in /usr/local/lib/python3.7/dist-packages (from scikit-learn>=0.20.0->scikit-optimize==0.9.0) (3.1.0)\n",
            "Building wheels for collected packages: scikit-optimize\n",
            "  Building wheel for scikit-optimize (PEP 517) ... \u001b[?25l\u001b[?25hdone\n",
            "  Created wheel for scikit-optimize: filename=scikit_optimize-0.9.0-py2.py3-none-any.whl size=100268 sha256=aba6ca0e0cbea9ae25aa0d543d38d5efb8b6271c40a059fdc4b14c342f38878c\n",
            "  Stored in directory: /tmp/pip-ephem-wheel-cache-geh9p5_z/wheels/d6/9e/e3/8818f5597f06caa60393811f8aa57eb87b8565d772046d1b72\n",
            "Successfully built scikit-optimize\n",
            "Installing collected packages: pyaml, scikit-optimize\n",
            "Successfully installed pyaml-21.10.1 scikit-optimize-0.9.0\n"
          ]
        }
      ]
    },
    {
      "cell_type": "code",
      "source": [
        "#libraria\n",
        "from skopt import BayesSearchCV"
      ],
      "metadata": {
        "id": "1u68ZepQozpY"
      },
      "execution_count": 42,
      "outputs": []
    },
    {
      "cell_type": "code",
      "source": [
        "# Bayesian\n",
        "\n",
        "param_grid = {\n",
        "    \"max_features\": [0.3, 0.5, 0.7, 1],\n",
        "    \"n_estimators\": (100,  800) , #manera diferente de verificar , asi se escribe una lista de valores\n",
        "    \"max_depth\": (4, 400) \n",
        "}\n",
        "\n",
        "reg_bay = BayesSearchCV(RandomForestRegressor(random_state=42),\n",
        "                    search_spaces=param_grid,\n",
        "                    n_iter=n_iter,\n",
        "                    cv=3,\n",
        "                    n_jobs=-1,\n",
        "                    scoring='neg_mean_absolute_error',\n",
        "                    random_state=123)\n",
        "\n",
        "start_time = time.time()\n",
        "\n",
        "model_bay = reg_bay.fit(X_train, y_train)\n",
        "\n",
        "end_time = time.time()"
      ],
      "metadata": {
        "id": "TbxFg1V3pHvu",
        "colab": {
          "base_uri": "https://localhost:8080/"
        },
        "outputId": "101fcfe8-a4ba-42ad-b891-092590b36bae"
      },
      "execution_count": 43,
      "outputs": [
        {
          "output_type": "stream",
          "name": "stderr",
          "text": [
            "/usr/local/lib/python3.7/dist-packages/skopt/optimizer/optimizer.py:449: UserWarning: The objective has been evaluated at this point before.\n",
            "  warnings.warn(\"The objective has been evaluated \"\n",
            "/usr/local/lib/python3.7/dist-packages/skopt/optimizer/optimizer.py:449: UserWarning: The objective has been evaluated at this point before.\n",
            "  warnings.warn(\"The objective has been evaluated \"\n"
          ]
        }
      ]
    },
    {
      "cell_type": "code",
      "source": [
        "results['bayesian'] = {'time': round(end_time-start_time, 5), \n",
        "                   'score_train': max(pd.DataFrame(model_bay.cv_results_)['mean_test_score'])*-1, \n",
        "                   'score_test':mean_absolute_error(y_test, model_bay.predict(X_test)) , \n",
        "                   'n_trainings': pd.DataFrame(model_bay.cv_results_).shape[0] * 3}"
      ],
      "metadata": {
        "id": "jeO91nIftnLA"
      },
      "execution_count": 44,
      "outputs": []
    },
    {
      "cell_type": "code",
      "source": [
        "results"
      ],
      "metadata": {
        "colab": {
          "base_uri": "https://localhost:8080/"
        },
        "id": "ce6fwFpQFU68",
        "outputId": "300105d8-06de-4d03-9cd3-3e19ea90c158"
      },
      "execution_count": 45,
      "outputs": [
        {
          "output_type": "execute_result",
          "data": {
            "text/plain": [
              "{'base': {'time': 0.13016,\n",
              "  'score_train': 46981.523146461455,\n",
              "  'score_test': 59970.48104531678,\n",
              "  'n_trainings': 1},\n",
              " 'grid': {'time': 279.40389,\n",
              "  'score_train': 47718.24636863908,\n",
              "  'score_test': 60140.50945441396,\n",
              "  'n_trainings': 576},\n",
              " 'random': {'time': 64.78014,\n",
              "  'score_train': 47699.07546602988,\n",
              "  'score_test': 60130.008302017006,\n",
              "  'n_trainings': 90},\n",
              " 'bayesian': {'time': 132.74512,\n",
              "  'score_train': 47717.42695362605,\n",
              "  'score_test': 60140.16174525987,\n",
              "  'n_trainings': 90}}"
            ]
          },
          "metadata": {},
          "execution_count": 45
        }
      ]
    },
    {
      "cell_type": "code",
      "source": [
        "model_bay.best_params_\n"
      ],
      "metadata": {
        "colab": {
          "base_uri": "https://localhost:8080/"
        },
        "id": "uVv8HRiqFd4j",
        "outputId": "5a0418ed-a5a3-42a3-8370-141e0b66c7ab"
      },
      "execution_count": 46,
      "outputs": [
        {
          "output_type": "execute_result",
          "data": {
            "text/plain": [
              "OrderedDict([('max_depth', 212), ('max_features', 0.3), ('n_estimators', 770)])"
            ]
          },
          "metadata": {},
          "execution_count": 46
        }
      ]
    },
    {
      "cell_type": "markdown",
      "source": [
        "#Comparativa final"
      ],
      "metadata": {
        "id": "i8voy6Bk52H6"
      }
    },
    {
      "cell_type": "code",
      "source": [
        "comparison = pd.DataFrame(results).T.reset_index()\n",
        "comparison"
      ],
      "metadata": {
        "id": "HZuljZGt54Eq",
        "colab": {
          "base_uri": "https://localhost:8080/",
          "height": 175
        },
        "outputId": "198f8942-04c2-4014-d85e-e52fb0d9651f"
      },
      "execution_count": 47,
      "outputs": [
        {
          "output_type": "execute_result",
          "data": {
            "text/plain": [
              "      index       time   score_train    score_test  n_trainings\n",
              "0      base    0.13016  46981.523146  59970.481045          1.0\n",
              "1      grid  279.40389  47718.246369  60140.509454        576.0\n",
              "2    random   64.78014  47699.075466  60130.008302         90.0\n",
              "3  bayesian  132.74512  47717.426954  60140.161745         90.0"
            ],
            "text/html": [
              "\n",
              "  <div id=\"df-8f7a14f8-f1de-47d6-8b0d-9748572df682\">\n",
              "    <div class=\"colab-df-container\">\n",
              "      <div>\n",
              "<style scoped>\n",
              "    .dataframe tbody tr th:only-of-type {\n",
              "        vertical-align: middle;\n",
              "    }\n",
              "\n",
              "    .dataframe tbody tr th {\n",
              "        vertical-align: top;\n",
              "    }\n",
              "\n",
              "    .dataframe thead th {\n",
              "        text-align: right;\n",
              "    }\n",
              "</style>\n",
              "<table border=\"1\" class=\"dataframe\">\n",
              "  <thead>\n",
              "    <tr style=\"text-align: right;\">\n",
              "      <th></th>\n",
              "      <th>index</th>\n",
              "      <th>time</th>\n",
              "      <th>score_train</th>\n",
              "      <th>score_test</th>\n",
              "      <th>n_trainings</th>\n",
              "    </tr>\n",
              "  </thead>\n",
              "  <tbody>\n",
              "    <tr>\n",
              "      <th>0</th>\n",
              "      <td>base</td>\n",
              "      <td>0.13016</td>\n",
              "      <td>46981.523146</td>\n",
              "      <td>59970.481045</td>\n",
              "      <td>1.0</td>\n",
              "    </tr>\n",
              "    <tr>\n",
              "      <th>1</th>\n",
              "      <td>grid</td>\n",
              "      <td>279.40389</td>\n",
              "      <td>47718.246369</td>\n",
              "      <td>60140.509454</td>\n",
              "      <td>576.0</td>\n",
              "    </tr>\n",
              "    <tr>\n",
              "      <th>2</th>\n",
              "      <td>random</td>\n",
              "      <td>64.78014</td>\n",
              "      <td>47699.075466</td>\n",
              "      <td>60130.008302</td>\n",
              "      <td>90.0</td>\n",
              "    </tr>\n",
              "    <tr>\n",
              "      <th>3</th>\n",
              "      <td>bayesian</td>\n",
              "      <td>132.74512</td>\n",
              "      <td>47717.426954</td>\n",
              "      <td>60140.161745</td>\n",
              "      <td>90.0</td>\n",
              "    </tr>\n",
              "  </tbody>\n",
              "</table>\n",
              "</div>\n",
              "      <button class=\"colab-df-convert\" onclick=\"convertToInteractive('df-8f7a14f8-f1de-47d6-8b0d-9748572df682')\"\n",
              "              title=\"Convert this dataframe to an interactive table.\"\n",
              "              style=\"display:none;\">\n",
              "        \n",
              "  <svg xmlns=\"http://www.w3.org/2000/svg\" height=\"24px\"viewBox=\"0 0 24 24\"\n",
              "       width=\"24px\">\n",
              "    <path d=\"M0 0h24v24H0V0z\" fill=\"none\"/>\n",
              "    <path d=\"M18.56 5.44l.94 2.06.94-2.06 2.06-.94-2.06-.94-.94-2.06-.94 2.06-2.06.94zm-11 1L8.5 8.5l.94-2.06 2.06-.94-2.06-.94L8.5 2.5l-.94 2.06-2.06.94zm10 10l.94 2.06.94-2.06 2.06-.94-2.06-.94-.94-2.06-.94 2.06-2.06.94z\"/><path d=\"M17.41 7.96l-1.37-1.37c-.4-.4-.92-.59-1.43-.59-.52 0-1.04.2-1.43.59L10.3 9.45l-7.72 7.72c-.78.78-.78 2.05 0 2.83L4 21.41c.39.39.9.59 1.41.59.51 0 1.02-.2 1.41-.59l7.78-7.78 2.81-2.81c.8-.78.8-2.07 0-2.86zM5.41 20L4 18.59l7.72-7.72 1.47 1.35L5.41 20z\"/>\n",
              "  </svg>\n",
              "      </button>\n",
              "      \n",
              "  <style>\n",
              "    .colab-df-container {\n",
              "      display:flex;\n",
              "      flex-wrap:wrap;\n",
              "      gap: 12px;\n",
              "    }\n",
              "\n",
              "    .colab-df-convert {\n",
              "      background-color: #E8F0FE;\n",
              "      border: none;\n",
              "      border-radius: 50%;\n",
              "      cursor: pointer;\n",
              "      display: none;\n",
              "      fill: #1967D2;\n",
              "      height: 32px;\n",
              "      padding: 0 0 0 0;\n",
              "      width: 32px;\n",
              "    }\n",
              "\n",
              "    .colab-df-convert:hover {\n",
              "      background-color: #E2EBFA;\n",
              "      box-shadow: 0px 1px 2px rgba(60, 64, 67, 0.3), 0px 1px 3px 1px rgba(60, 64, 67, 0.15);\n",
              "      fill: #174EA6;\n",
              "    }\n",
              "\n",
              "    [theme=dark] .colab-df-convert {\n",
              "      background-color: #3B4455;\n",
              "      fill: #D2E3FC;\n",
              "    }\n",
              "\n",
              "    [theme=dark] .colab-df-convert:hover {\n",
              "      background-color: #434B5C;\n",
              "      box-shadow: 0px 1px 3px 1px rgba(0, 0, 0, 0.15);\n",
              "      filter: drop-shadow(0px 1px 2px rgba(0, 0, 0, 0.3));\n",
              "      fill: #FFFFFF;\n",
              "    }\n",
              "  </style>\n",
              "\n",
              "      <script>\n",
              "        const buttonEl =\n",
              "          document.querySelector('#df-8f7a14f8-f1de-47d6-8b0d-9748572df682 button.colab-df-convert');\n",
              "        buttonEl.style.display =\n",
              "          google.colab.kernel.accessAllowed ? 'block' : 'none';\n",
              "\n",
              "        async function convertToInteractive(key) {\n",
              "          const element = document.querySelector('#df-8f7a14f8-f1de-47d6-8b0d-9748572df682');\n",
              "          const dataTable =\n",
              "            await google.colab.kernel.invokeFunction('convertToInteractive',\n",
              "                                                     [key], {});\n",
              "          if (!dataTable) return;\n",
              "\n",
              "          const docLinkHtml = 'Like what you see? Visit the ' +\n",
              "            '<a target=\"_blank\" href=https://colab.research.google.com/notebooks/data_table.ipynb>data table notebook</a>'\n",
              "            + ' to learn more about interactive tables.';\n",
              "          element.innerHTML = '';\n",
              "          dataTable['output_type'] = 'display_data';\n",
              "          await google.colab.output.renderOutput(dataTable, element);\n",
              "          const docLink = document.createElement('div');\n",
              "          docLink.innerHTML = docLinkHtml;\n",
              "          element.appendChild(docLink);\n",
              "        }\n",
              "      </script>\n",
              "    </div>\n",
              "  </div>\n",
              "  "
            ]
          },
          "metadata": {},
          "execution_count": 47
        }
      ]
    },
    {
      "cell_type": "code",
      "source": [
        "import matplotlib.pyplot as plt\n",
        "\n",
        "xvalues = list(range(len(comparison)))\n",
        "plt.subplots(1, 2, figsize=(10, 6))\n",
        "plt.subplot(121)\n",
        "plt.bar(xvalues, comparison['score_test'], color = 'g', edgecolor = 'k', linewidth = 1.8)\n",
        "plt.xticks(xvalues, comparison['index'], rotation = 45, fontsize = 12)\n",
        "plt.ylim(ymin = 40000, ymax=70000)\n",
        "plt.xlabel('model'); plt.ylabel('Error(%)'); plt.title('Error Comparison');\n",
        "\n",
        "plt.subplot(122)\n",
        "plt.bar(xvalues, comparison['time'], color = 'r', edgecolor = 'k', linewidth = 1.8)\n",
        "plt.xticks(xvalues, comparison['index'], rotation = 45)\n",
        "plt.xlabel('model'); plt.ylabel('Time'); plt.title('time Comparison');\n",
        "plt.show();"
      ],
      "metadata": {
        "id": "reLK7tm86SrP",
        "colab": {
          "base_uri": "https://localhost:8080/",
          "height": 442
        },
        "outputId": "e547e333-837f-4f95-dbfa-ea62682111aa"
      },
      "execution_count": 49,
      "outputs": [
        {
          "output_type": "display_data",
          "data": {
            "text/plain": [
              "<Figure size 720x432 with 2 Axes>"
            ],
            "image/png": "[encoded data removed]"
          },
          "metadata": {
            "needs_background": "light"
          }
        }
      ]
    },
    {
      "cell_type": "markdown",
      "source": [
        "#Otros conceptos"
      ],
      "metadata": {
        "id": "5ZpEDY7t56-W"
      }
    },
    {
      "cell_type": "code",
      "source": [
        "import numpy as np\n",
        "grid = model_grid.cv_results_['param_n_estimators']\n",
        "rand = model_rand.cv_results_['param_n_estimators']\n",
        "bay = model_bay.cv_results_['param_n_estimators']\n",
        "\n",
        "\n",
        "fig = plt.figure(figsize=(15, 7))\n",
        "\n",
        "ax = plt.gca()\n",
        "ax.scatter(np.arange(len(grid)), grid, c='b', s=20, label='grid');\n",
        "ax.scatter(np.arange(len(rand)), rand.data, c='r', s=20, label='random');\n",
        "ax.scatter(np.arange(len(bay)), bay, c='g', s=20, label='bayesian');\n",
        "plt.legend();"
      ],
      "metadata": {
        "id": "ktplOuRWulO0",
        "colab": {
          "base_uri": "https://localhost:8080/",
          "height": 428
        },
        "outputId": "177d5471-424e-40c4-9107-77f0b1d7081f"
      },
      "execution_count": 50,
      "outputs": [
        {
          "output_type": "display_data",
          "data": {
            "text/plain": [
              "<Figure size 1080x504 with 1 Axes>"
            ],
            "image/png": "[encoded data removed]"
          },
          "metadata": {
            "needs_background": "light"
          }
        }
      ]
    }
  ]
}